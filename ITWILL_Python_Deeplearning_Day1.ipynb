{
 "cells": [
  {
   "cell_type": "markdown",
   "metadata": {},
   "source": [
    "## 딥러닝 수업\n",
    "\n",
    "### 인공지능의 눈 ? CNN  \n",
    "\n",
    "1. 사진속에 사람, 동물등을 구별할 수 있다. 이 기술이 현업에서 어떻게 쓰이느냐?\n",
    "\n",
    "    - 구글 로드뷰, 카카오 로드뷰에서 세람 얼굴이나 차량 번호판을 모자이크 처리를 해야하는데 이것을 일일이 사람이 할 수 없다.  \n",
    "        그래서 컴퓨터에게 사람얼굴과 자동차 번호판을 모자이크 처리해라~ 라고 시킬 수가 있다.\n",
    "    \n",
    "    \n",
    "2. 제조업에서 만드는 제품들의 불량 여부를 확인하는 직업중에 품질 관리사의 롤을 컴퓨터가 대신할 수 있다.\n",
    "\n",
    "    - 코그넥스 : 세계 1위 머신비전회사 + 수아랩(개발자 100명)  2천억원에 인수\n",
    "\n",
    "    - 딥노이드 : 김포공항 공항 검색대 물품 검색을 cnn으로 구현하여 위반되는 물건이 있는지 검사하는 신경망과 인터페이스 개발\n",
    "\n",
    "    - 김포공항 --> 수아랩   \n",
    "\n",
    "\n",
    "3. 의료쪽에서는 x-ray 사진과 의료영상 사진의 질병 여부를 컴퓨터가 판단하게 할 수 있다.\n",
    "\n",
    "\n",
    "4. 기타"
   ]
  },
  {
   "cell_type": "markdown",
   "metadata": {},
   "source": [
    "### 인공지능의 귀 ? RNN\n",
    "\n",
    "### __예__:  \n",
    "\n",
    "법률책 판례 --> 신경망 학습 --> 판결\n",
    "\n",
    "__But, 아직 한국어에 대한 자연어 처리에 대한 룰을 못정했다.__\n",
    "\n",
    "즉, __인공지능 변호사__\n",
    "\n",
    "음악가사(랩) --> 신경망 --> 작사"
   ]
  },
  {
   "cell_type": "markdown",
   "metadata": {},
   "source": [
    "## 2. 넘파이(numpy) 배열 생성하기\n",
    "\n",
    "### numpy란 ?\n",
    "\n",
    "python 언어에서 기본적으로 지원하지 않는 배열(array)혹은 행렬(matrix)의 계산을 쉽게 해주는 라이브러리  \n",
    "\n",
    "머신러닝에서 많이 사용하는 선형대수학에 관련된 수식들을 python에서 쉽게 프로그래밍 할 수 있게 해준다."
   ]
  },
  {
   "cell_type": "markdown",
   "metadata": {},
   "source": [
    "## 문제1. 아래의 행렬을 numpy로 만드시오!"
   ]
  },
  {
   "cell_type": "code",
   "execution_count": 1,
   "metadata": {},
   "outputs": [
    {
     "name": "stdout",
     "output_type": "stream",
     "text": [
      "[[1 2]\n",
      " [3 4]]\n"
     ]
    }
   ],
   "source": [
    "import numpy as np\n",
    "\n",
    "a = [[1,2],[3,4]]\n",
    "\n",
    "result = np.array(a)\n",
    "\n",
    "print(result)"
   ]
  },
  {
   "cell_type": "markdown",
   "metadata": {},
   "source": [
    "## 문제2. 브로드 캐스트 기능을 통해서 행렬 각각의 요소에 5를 더하시오!"
   ]
  },
  {
   "cell_type": "code",
   "execution_count": 2,
   "metadata": {},
   "outputs": [
    {
     "name": "stdout",
     "output_type": "stream",
     "text": [
      "[[6 7]\n",
      " [8 9]]\n"
     ]
    }
   ],
   "source": [
    "import numpy as np\n",
    "\n",
    "a = [[1,2],[3,4]]\n",
    "\n",
    "result = np.array(a)\n",
    "\n",
    "print(result+5)"
   ]
  },
  {
   "cell_type": "markdown",
   "metadata": {},
   "source": [
    "## numpy의 브로드 캐스트(broadcast) 기능\n",
    "\n",
    "넘파이에서는 형상이 다른 배열끼리도 계산을 할 수 있습니다.  \n",
    "위의 경우처럼 숫자 5가 2x2행렬로 확대된 후 연산이 이루어집니다.  \n",
    "이 기능을 브로드 캐스트(broadcast)라고 합니다.  \n",
    "넘파이가 제공하는 브로드 캐스트 기능 때문에  \n",
    "형상이 다른 배열끼리 연산을 스마트하게 할 수 있습니다.  \n",
    "\n",
    "https://github.com/oreilly-japan/deep-learning-from-scratch"
   ]
  },
  {
   "cell_type": "markdown",
   "metadata": {},
   "source": [
    "## 문제3. 아래의 브로드 캐스트 기능을 numpy로 구현하시오!"
   ]
  },
  {
   "cell_type": "code",
   "execution_count": 5,
   "metadata": {},
   "outputs": [
    {
     "name": "stdout",
     "output_type": "stream",
     "text": [
      "[[10 20]\n",
      " [30 40]]\n"
     ]
    }
   ],
   "source": [
    "import numpy as np\n",
    "\n",
    "a = [[1,2],[3,4]]\n",
    "\n",
    "a_n = np.array(a)\n",
    "\n",
    "result = a_n*10\n",
    "\n",
    "print(result)"
   ]
  },
  {
   "cell_type": "markdown",
   "metadata": {},
   "source": [
    "## 문제4. 아래의 행렬식을 numpy로 구현하시오!"
   ]
  },
  {
   "cell_type": "code",
   "execution_count": 8,
   "metadata": {},
   "outputs": [
    {
     "name": "stdout",
     "output_type": "stream",
     "text": [
      "[[ 1  3 12]\n",
      " [ 8  5  0]]\n"
     ]
    }
   ],
   "source": [
    "import numpy as np\n",
    "\n",
    "a = np.array([[1,3,7],[1,0,0]])\n",
    "b = np.array([[0,0,5],[7,5,0]])\n",
    "\n",
    "print(a+b)"
   ]
  },
  {
   "cell_type": "markdown",
   "metadata": {},
   "source": [
    "## 예제3. 넘파이의 산술 연산"
   ]
  },
  {
   "cell_type": "code",
   "execution_count": null,
   "metadata": {},
   "outputs": [],
   "source": [
    "import numpy as np\n",
    "\n",
    "x = np.array([[1,2,3]])\n",
    "y = np.array([[2.4.6]])\n",
    "\n",
    "print(x+y)\n",
    "print(x*y)\n",
    "print(x/y)\n",
    "print(x-y)"
   ]
  },
  {
   "cell_type": "markdown",
   "metadata": {},
   "source": [
    "## 문제5. 아래의 신경망을 numpy 행렬로 구현하시오!"
   ]
  },
  {
   "cell_type": "code",
   "execution_count": 10,
   "metadata": {},
   "outputs": [
    {
     "name": "stdout",
     "output_type": "stream",
     "text": [
      "36\n"
     ]
    }
   ],
   "source": [
    "import numpy as np\n",
    "\n",
    "x = np.array([[2,4,8]]) # 입력 행렬\n",
    "\n",
    "w = np.array([[4,3,2]]) # 가중치 행렬\n",
    "\n",
    "k = np.sum(x*w)\n",
    "\n",
    "print(k)"
   ]
  },
  {
   "cell_type": "markdown",
   "metadata": {},
   "source": [
    "## 문제6. 아래의 신경망을 구현하시오!"
   ]
  },
  {
   "cell_type": "code",
   "execution_count": 12,
   "metadata": {},
   "outputs": [
    {
     "name": "stdout",
     "output_type": "stream",
     "text": [
      "[ 5 11 17]\n"
     ]
    }
   ],
   "source": [
    "import numpy as np\n",
    "\n",
    "x = np.array([[1,2]])\n",
    "\n",
    "w = np.array([[1,3,5],[2,4,6]])\n",
    "\n",
    "\n",
    "print(np.dot(x,w))    "
   ]
  },
  {
   "cell_type": "markdown",
   "metadata": {},
   "source": [
    "## 문제7. 아래의 신경망을 numpy 로 구현하시오!"
   ]
  },
  {
   "cell_type": "code",
   "execution_count": 24,
   "metadata": {},
   "outputs": [
    {
     "name": "stdout",
     "output_type": "stream",
     "text": [
      "[[ 5 11 17]]\n",
      "[[189 222]]\n"
     ]
    }
   ],
   "source": [
    "import numpy as np\n",
    "\n",
    "x = np.array([[1,2]])\n",
    "\n",
    "w1 = np.array([[1,3,5],[2,4,6]])\n",
    "\n",
    "w2 = np.array([[3,4],[5,6],[7,8]])\n",
    "\n",
    "k = np.dot(x,w1)\n",
    "m = np.dot(k,w2)\n",
    "\n",
    "print(k)\n",
    "\n",
    "print(m)"
   ]
  },
  {
   "cell_type": "markdown",
   "metadata": {},
   "source": [
    "## 예제4. 넘파이 N차원 배열\n",
    "\n",
    "넘파이는 1차원 배열(1줄로 늘어선 배열)뿐만 아니라 다차원 배열도 작성 할 수 있다."
   ]
  },
  {
   "cell_type": "code",
   "execution_count": 14,
   "metadata": {},
   "outputs": [
    {
     "name": "stdout",
     "output_type": "stream",
     "text": [
      "(2, 2)\n"
     ]
    }
   ],
   "source": [
    "a= np.array([[1,2],[3,4]])\n",
    "\n",
    "print(a.shape)"
   ]
  },
  {
   "cell_type": "markdown",
   "metadata": {},
   "source": [
    "## 문제8. 아래와 같이 5x5 행렬을 생성하시오!"
   ]
  },
  {
   "cell_type": "code",
   "execution_count": 15,
   "metadata": {},
   "outputs": [
    {
     "name": "stdout",
     "output_type": "stream",
     "text": [
      "[[1 2 3 4 5]\n",
      " [1 2 3 4 5]\n",
      " [1 2 3 4 5]\n",
      " [1 2 3 4 5]\n",
      " [1 2 3 4 5]]\n"
     ]
    }
   ],
   "source": [
    "import numpy as np\n",
    "\n",
    "a = np.array([[1,2,3,4,5], [1,2,3,4,5], [1,2,3,4,5], [1,2,3,4,5], [1,2,3,4,5]])\n",
    "\n",
    "print(a)"
   ]
  },
  {
   "cell_type": "markdown",
   "metadata": {},
   "source": [
    "### ※ 넘파이 배열(np.array)는 N차원 배열을 작성할 수 있습니다.  \n",
    " 1차원 배열, 2차원배열, 3차원 배열 처럼 원하는 차수의 배열을 만들 수 있습니다.    \n",
    " 수학에서는 __1차원 배열을 벡터(vector)__, __2차원 배열을 행열(matrix)__라고 부릅니다.  \n",
    " 또 벡터와 행렬을 일반화 한것을 텐서(tensor)라 합니다.    \n",
    "\n",
    "\n",
    "### ■ tensorflow --> 행렬이 계산되면서 흘러간다! (tensor -> 다차원 배열 , flow -> 흐름)\n",
    "구글에서 만든 텐서 플로우는 4차원 배열의 연산(계산)을 빠르게 할수 있게끔 구현이 되어져 있다.\n",
    "\n",
    "1. 코드가 간결해진다.\n",
    "2. 신경망 구현에 필요한 모든 함수들이 다 내장되어 있다.\n",
    "3. 속도가 빠르다.(코딩도 빨라지고 실행이 빠르다.)\n",
    "4. GPU를 사용할 수 있다."
   ]
  },
  {
   "cell_type": "markdown",
   "metadata": {},
   "source": [
    "## 예제5. numpy의 브로드 캐스트(broadcast) 기능\n",
    "\n",
    "넘파이에서는 형상이 다른 배열끼리도 계산을 할 수 있습니다.  \n",
    "위의 경우처럼 숫자 5가 2x2행렬로 확대된 후 연산이 이루어집니다.  \n",
    "이 기능을 브로드 캐스트(broadcast)라고 합니다.  \n",
    "넘파이가 제공하는 브로드 캐스트 기능 때문에    \n",
    "형상이 다른 배열끼리 연산을 스마트하게 할 수 있습니다.  \n",
    "\n",
    "https://github.com/oreilly-japan/deep-learning-from-scratch"
   ]
  },
  {
   "cell_type": "code",
   "execution_count": 23,
   "metadata": {},
   "outputs": [
    {
     "name": "stdout",
     "output_type": "stream",
     "text": [
      "[[10 40]\n",
      " [10 40]]\n"
     ]
    }
   ],
   "source": [
    "import numpy as np\n",
    "\n",
    "a = np.array([[1,2],[1,2]]) # 2x2 행렬\n",
    "\n",
    "x = np.array([[10,20]]) # 1x2 행렬이지만 브로드캐스트 기능으로 2x2행렬이 된다.\n",
    "\n",
    "result = a * x\n",
    "\n",
    "print(result)"
   ]
  },
  {
   "cell_type": "markdown",
   "metadata": {},
   "source": [
    "## 예제6. 넘파이(Numpy) 원소접근\n",
    "\n",
    "numpy 배열안에 요소들에 대한 접근은 numpy를 이용하지 않았을 때 보다 훨씬 간단하게 구현할 수 있습니다."
   ]
  },
  {
   "cell_type": "markdown",
   "metadata": {},
   "source": [
    "### 예제. 아래의 행렬식을 만들고 아래의 행렬의 요소에서 15이상인 것만 출력하시오!(numpy 이용하지 말고)"
   ]
  },
  {
   "cell_type": "code",
   "execution_count": 27,
   "metadata": {},
   "outputs": [
    {
     "name": "stdout",
     "output_type": "stream",
     "text": [
      "[51, 55, 19]\n"
     ]
    }
   ],
   "source": [
    "a = [[51,55], [14,19], [0,4]]\n",
    "result = []\n",
    "for i in range(len(a)):\n",
    "    for j in range(len(a[i])):\n",
    "        if a[i][j]>=15:\n",
    "            result.append(a[i][j])\n",
    "\n",
    "print(result)"
   ]
  },
  {
   "cell_type": "markdown",
   "metadata": {},
   "source": [
    "## 문제9. 위의 예제를 numpy를 이용해서 구현하시오!"
   ]
  },
  {
   "cell_type": "code",
   "execution_count": 31,
   "metadata": {},
   "outputs": [
    {
     "name": "stdout",
     "output_type": "stream",
     "text": [
      "[51 55 19]\n",
      "[[ True  True]\n",
      " [False  True]\n",
      " [False False]]\n"
     ]
    }
   ],
   "source": [
    "import numpy as np\n",
    "\n",
    "a = np.array([[51,55], [14,19], [0,4]])\n",
    "\n",
    "print(a[a>=15]) # True 인 요소들만 가져옴!\n",
    "\n",
    "print(a>15)"
   ]
  },
  {
   "cell_type": "markdown",
   "metadata": {},
   "source": [
    "## 예제7. Matplotlib로 그래프 그리기\n",
    "\n",
    "딥러닝 실험에서는 그래프 그리기와 데이터 시각화가 중요합니다.  \n",
    "matplotlib는 그래프 그리기를 위한 라이브러리 입니다.  \n",
    "matplotlib를 이용하면 그래프 그리기와 데이터 시각화가 쉬워집니다. "
   ]
  },
  {
   "cell_type": "markdown",
   "metadata": {},
   "source": [
    "## 예제: 파이썬으로 산포도 그래프 그리는 방법"
   ]
  },
  {
   "cell_type": "code",
   "execution_count": 35,
   "metadata": {},
   "outputs": [
    {
     "data": {
      "image/png": "[encoded data removed]",
      "text/plain": [
       "<Figure size 432x288 with 1 Axes>"
      ]
     },
     "metadata": {
      "needs_background": "light"
     },
     "output_type": "display_data"
    }
   ],
   "source": [
    "import numpy as np\n",
    "import matplotlib.pyplot as plt\n",
    "\n",
    "x = np.array([0,1,2,3,4,5,6,7,8,9])\n",
    "y = np.array([9,8,7,9,8,3,2,4,3,4])\n",
    "\n",
    "plt.scatter(x,y)\n",
    "plt.show()"
   ]
  },
  {
   "cell_type": "markdown",
   "metadata": {},
   "source": [
    "## 문제10. 위의 그래프의 색깔을 빨간색으로 변경하시오!"
   ]
  },
  {
   "cell_type": "code",
   "execution_count": 34,
   "metadata": {},
   "outputs": [
    {
     "data": {
      "image/png": "[encoded data removed]",
      "text/plain": [
       "<Figure size 432x288 with 1 Axes>"
      ]
     },
     "metadata": {
      "needs_background": "light"
     },
     "output_type": "display_data"
    }
   ],
   "source": [
    "import numpy as np\n",
    "import matplotlib.pyplot as plt\n",
    "\n",
    "x = np.array([0,1,2,3,4,5,6,7,8,9])\n",
    "y = np.array([9,8,7,9,8,3,2,4,3,4])\n",
    "\n",
    "# plt.scatter를 이용하여 점으로 결과를 나타냄\n",
    "plt.scatter(x,y, color = \"red\", s= 80) # color는 색깔, s = 점사이즈 \n",
    "plt.show()"
   ]
  },
  {
   "cell_type": "markdown",
   "metadata": {},
   "source": [
    "## 문제11. 위의 그래프를 라인 그래프로 그리시오!"
   ]
  },
  {
   "cell_type": "code",
   "execution_count": 36,
   "metadata": {},
   "outputs": [
    {
     "data": {
      "image/png": "[encoded data removed]",
      "text/plain": [
       "<Figure size 432x288 with 1 Axes>"
      ]
     },
     "metadata": {
      "needs_background": "light"
     },
     "output_type": "display_data"
    }
   ],
   "source": [
    "import numpy as np\n",
    "import matplotlib.pyplot as plt\n",
    "\n",
    "x = np.array([0,1,2,3,4,5,6,7,8,9])\n",
    "y = np.array([9,8,7,9,8,3,2,4,3,4])\n",
    "\n",
    "# plt.plot을 통해서 선으로 결과를 나타냄.\n",
    "\n",
    "plt.plot(x,y, color = \"red\") # color는 색깔\n",
    "plt.show()"
   ]
  },
  {
   "cell_type": "markdown",
   "metadata": {},
   "source": [
    "## 문제12. 제목과 x축 라벨과 y축 라벨을 한글로 표기하세요!"
   ]
  },
  {
   "cell_type": "code",
   "execution_count": 40,
   "metadata": {},
   "outputs": [
    {
     "data": {
      "image/png": "[encoded data removed]",
      "text/plain": [
       "<Figure size 432x288 with 1 Axes>"
      ]
     },
     "metadata": {
      "needs_background": "light"
     },
     "output_type": "display_data"
    }
   ],
   "source": [
    "import  numpy  as  np\n",
    "import  matplotlib.pyplot   as  plt \n",
    "from  matplotlib import font_manager,  rc  # 그래프를 그릴 때 한글 깨짐을 방지하는 모듈\n",
    "\n",
    "x = np.array( [ 0, 1, 2, 3, 4, 5, 6, 7, 8, 9 ] )\n",
    "y = np.array( [ 9, 8, 7, 9, 8, 3, 2, 4, 3, 4 ] )\n",
    "\n",
    "font_name = font_manager.FontProperties( fname=\"C:\\Windows/Fonts/malgun.ttf\").get_name()\n",
    "\n",
    "rc('font', family =font_name)  \n",
    "\n",
    "plt.plot( x, y , color=\"red\" )\n",
    "plt.xlabel('월')\n",
    "plt.ylabel('아파트 매매 가격')\n",
    "plt.title('아파트 매매 가격 변동 추이')\n",
    "plt.show()"
   ]
  },
  {
   "cell_type": "markdown",
   "metadata": {},
   "source": [
    "## 문제13. 아래의 수학식을 numpy로 구현하시오!\n"
   ]
  }
 ],
 "metadata": {
  "kernelspec": {
   "display_name": "Python 3",
   "language": "python",
   "name": "python3"
  },
  "language_info": {
   "codemirror_mode": {
    "name": "ipython",
    "version": 3
   },
   "file_extension": ".py",
   "mimetype": "text/x-python",
   "name": "python",
   "nbconvert_exporter": "python",
   "pygments_lexer": "ipython3",
   "version": "3.7.4"
  }
 },
 "nbformat": 4,
 "nbformat_minor": 2
}
