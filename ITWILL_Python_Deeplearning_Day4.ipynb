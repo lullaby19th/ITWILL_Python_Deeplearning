{
 "cells": [
  {
   "cell_type": "markdown",
   "metadata": {},
   "source": [
    "## 면접문제3번 \n",
    "\n",
    "### 신경망 학습시 왜 배치처리를 해야 하나요?\n",
    "1. numpy가 다차원 행렬의 연산을 빠르게 하게끔 최적화 된 모듈이기 때문.\n",
    "2. 큰 배열을 한꺼번에 계산을 하는것이 분할된 작은 배열을  여러번 계산하는 것보다 빠르기 때문입니다ㅠ"
   ]
  },
  {
   "cell_type": "markdown",
   "metadata": {},
   "source": [
    "## Day3 Review 3층 신경망 구현하기"
   ]
  },
  {
   "cell_type": "code",
   "execution_count": null,
   "metadata": {},
   "outputs": [],
   "source": [
    "# 입력층(0층)  -> 은닉1층(1층) -> 은닉2층(2층) -> 출력층(3층)\n",
    "# 그림보고 이해 잘해두기 !\n",
    "# 최종 완성본!\n",
    "\n",
    "import numpy as np\n",
    "\n",
    "def sigmoid(x):\n",
    "    return 1/(1+np.exp(-x))\n",
    "\n",
    "def softmax(a):\n",
    "    C = np.max(a)\n",
    "    minus = a - C # + C_prime을 (-C)로 처리\n",
    "    exp_a = np.exp(minus) # 마지막식 분자\n",
    "    sum_exp_a = np.sum(exp_a) # 마지막식 분모\n",
    "    y = exp_a / sum_exp_a # numpy broadcast 기능으로 계산이 가능\n",
    "    \n",
    "    return y\n",
    "\n",
    "# 입력층 (0층)\n",
    "x = np.array([1,2])\n",
    "\n",
    "# 은닉1층 (1층)\n",
    "w1 = np.array([[1,3,5],[2,4,6]])\n",
    "k = np.dot(x,w1) # 가중치들의 곱의 합을 내적으로 표현함. (중요)\n",
    "\n",
    "k_prime = sigmoid(k)\n",
    "\n",
    "\n",
    "# 은닉2층 (2층)\n",
    "w2 = np.array([[6,7],[8,9],[10,11]]) \n",
    "m = np.dot(k_prime,w2) # 가중치들의 곱의 합을 내적으로 표현함.\n",
    "\n",
    "m_prime = sigmoid(m) # 시그모이드 적용\n",
    "\n",
    "# 출력층 (3층) \n",
    "# softmax 함수 적용 예정 (sigmoid 아님)\n",
    "\n",
    "w3 = np.array([[3,4],[5,6]])\n",
    "o = np.dot(m_prime,w3)\n",
    "\n",
    "o_prime = softmax(o)\n",
    "\n",
    "print(o_prime)\n",
    "print(np.sum(o_prime))"
   ]
  },
  {
   "cell_type": "markdown",
   "metadata": {},
   "source": [
    "## ■ 6. 손글씨 글자 인식(mnist) 구현하기\n",
    "\n",
    "1. 어제 작성했던 3층 신경망 코드를 좀 더 심플하게 재작성하기."
   ]
  },
  {
   "cell_type": "markdown",
   "metadata": {},
   "source": [
    "## 예제1. 어제 만들었던 3층 신경망의 가중치 w1, w2, w3를 딕셔너리로 구현"
   ]
  },
  {
   "cell_type": "code",
   "execution_count": 6,
   "metadata": {},
   "outputs": [
    {
     "name": "stdout",
     "output_type": "stream",
     "text": [
      "{'W1': array([[1, 3, 5],\n",
      "       [2, 4, 6]]), 'W2': array([[ 6,  7],\n",
      "       [ 8,  9],\n",
      "       [10, 11]]), 'W3': array([[3, 4],\n",
      "       [5, 6]])}\n",
      "dict_keys(['W1', 'W2', 'W3'])\n",
      "dict_values([array([[1, 3, 5],\n",
      "       [2, 4, 6]]), array([[ 6,  7],\n",
      "       [ 8,  9],\n",
      "       [10, 11]]), array([[3, 4],\n",
      "       [5, 6]])])\n"
     ]
    }
   ],
   "source": [
    "import numpy as np\n",
    "\n",
    "network = {}\n",
    "network['W1'] = np.array([[1,3,5],[2,4,6]])\n",
    "network['W2'] = np.array([[6,7],[8,9],[10,11]])\n",
    "network['W3'] = np.array([[3,4],[5,6]])\n",
    "\n",
    "print(network)\n",
    "print(network.keys())\n",
    "print(network.values())"
   ]
  },
  {
   "cell_type": "markdown",
   "metadata": {},
   "source": [
    "## 문제36.   \n",
    "## 위의 코드를 함수로 생성하시오! (함수이름 : init_network())  \n",
    "## return은 network으로 하세요~"
   ]
  },
  {
   "cell_type": "code",
   "execution_count": 4,
   "metadata": {},
   "outputs": [
    {
     "name": "stdout",
     "output_type": "stream",
     "text": [
      "[[1 3 5]\n",
      " [2 4 6]]\n"
     ]
    }
   ],
   "source": [
    "import numpy as np\n",
    "\n",
    "def init_network():\n",
    "    network = {}\n",
    "    network['W1'] = np.array([[1,3,5],[2,4,6]])\n",
    "    network['W2'] = np.array([[6,7],[8,9],[10,11]])\n",
    "    network['W3'] = np.array([[3,4],[5,6]])\n",
    "    \n",
    "    return network\n",
    "\n",
    "network = init_network()\n",
    "print(network['W1'])"
   ]
  },
  {
   "cell_type": "markdown",
   "metadata": {},
   "source": [
    "## 예제2. 지금 만든 init_network() 함수를 포함해서 어제만들었던   \n",
    "## 신경망에 필요한 함수들을 하나로 모아서 common.py라는 이름으로 저장하시오.\n",
    "\n",
    "1. init_network()\n",
    "2. sigmoid()\n",
    "3. softmax()\n",
    "4. relu()\n",
    "5. set_function()"
   ]
  },
  {
   "cell_type": "code",
   "execution_count": null,
   "metadata": {},
   "outputs": [],
   "source": [
    "# working 디렉토리에 저장한 뒤\n",
    "\n",
    "from common import *\n",
    "\n",
    "network = common.init_network()\n",
    "print(network['W1'])"
   ]
  },
  {
   "cell_type": "markdown",
   "metadata": {},
   "source": [
    "## 예제3. 3층 신경망 전체 코드를 작성하시오~"
   ]
  },
  {
   "cell_type": "code",
   "execution_count": null,
   "metadata": {},
   "outputs": [],
   "source": [
    "from common import *\n",
    "network = init_network()\n",
    "\n",
    "W1, W2, W3 = network['W1'], network['W2'], network['W3']\n",
    "\n",
    "# 1층\n",
    "x = np.array([[1,2]])\n",
    "y = np.dot(x,W1)\n",
    "y_hat = sigmoid(y)\n",
    "\n",
    "# 2층\n",
    "z = np.dot(y_hat, W2)\n",
    "z_hat = sigmoid(z)\n",
    "\n",
    "# 3층\n",
    "k = np.dot(z_hat, W3)\n",
    "k_hat = softmax(k)\n",
    "print(k_hat)"
   ]
  },
  {
   "cell_type": "markdown",
   "metadata": {},
   "source": [
    "## 문제37(점심시간문제) 위의 시그모이드 함수를 렐루 함수로 변경해서 수행하시오!\n",
    "\n",
    "## 위의 코드를 forward 함수를 만들어서 아래와 같이 수행되게 하시오~"
   ]
  },
  {
   "cell_type": "code",
   "execution_count": null,
   "metadata": {},
   "outputs": [],
   "source": [
    "from common import *\n",
    "\n",
    "def forward(network,x):\n",
    "    W1, W2, W3 = network['W1'], network['W2'], network['W3']\n",
    "\n",
    "    # 1층\n",
    "    y = np.dot(x,W1)\n",
    "    y_hat = relu(y)\n",
    "\n",
    "    # 2층\n",
    "    z = np.dot(y_hat, W2)\n",
    "    z_hat = relu(z)\n",
    "\n",
    "    # 3층\n",
    "    k = np.dot(z_hat, W3)\n",
    "    k_hat = softmax(k)\n",
    "    return k_hat\n",
    "\n",
    "network = init_network()\n",
    "x = np.array([1,2])\n",
    "\n",
    "print(forward(network,x))"
   ]
  },
  {
   "cell_type": "markdown",
   "metadata": {},
   "source": [
    "## ■ 필기체 데이터를 신경망에 로드하기 \n",
    "\n",
    "### 필요한 파일 2가지 ? \n",
    "\n",
    "__1. 필기체 데이터 ( dataset.zip )__  \n",
    "\n",
    "mnist 데이터는 0 ~ 9 까지의 숫자 이미지로 구성된 필기체 데이터. \n",
    "\n",
    "훈련 데이터가 6만장, 테스트 데이터가 1만장 \n",
    "\n",
    "28 x 28 크기의 회색조 이미지(1채널) 이며, 각 픽셀 0~255 까지의 값을 \n",
    "\n",
    "취합니다. \n",
    "\n",
    " \n",
    "__2. 저자가 이미 학습해서 만들어 놓은 가중치와 바이어스__ \n",
    "\n",
    "( sample_weight.pkl )  <--- pickle file "
   ]
  },
  {
   "cell_type": "markdown",
   "metadata": {},
   "source": [
    "## 예제1. 필기체 데이터를 파이썬으로 로드하는데 로드하고 훈련 데이터가 6만장이고,   \n",
    "## 테스트 데이터가 1만장인지 확인하시오!"
   ]
  },
  {
   "cell_type": "code",
   "execution_count": null,
   "metadata": {},
   "outputs": [],
   "source": [
    "import sys,os # os의 파일을 파이썬으로 가져오기 위해 필요함\n",
    "sys.path.append(os.pardir) # 부모 디렉토리의 파일을 가져올 수 있도록 설정\n",
    "\n",
    "from dataset.mnist import load_mnist # dataset 패키지안에 mnist 모듈에 load_mnist 함수를 가져와라.\n",
    "\n",
    "(x_train, t_train), (x_test, t_test) = load_mnist(flatten=True, normalize= False)\n",
    "\n",
    "# flatten = True : 28x28 이미지를 784 1차원 배열로 만드는 것이다.\n",
    "# normalize = False 0~255 숫자 데이터를 0~1사이의 숫자로 정규화 안하는 것.\n",
    "\n",
    "print(x_train.shape) # (60000,784) 28x28사진 60000만장을 784로 편 상태.\n",
    "print(x_test.shape) # (10000,784) 28x28사진 10000만장을 784로 편 상태."
   ]
  },
  {
   "cell_type": "markdown",
   "metadata": {},
   "source": [
    "## 예제2. 필기체 데이터 숫자 하나를 시각화 한다."
   ]
  },
  {
   "cell_type": "code",
   "execution_count": null,
   "metadata": {},
   "outputs": [],
   "source": [
    "import sys,os # os의 파일을 파이썬으로 가져오기 위해 필요함\n",
    "sys.path.append(os.pardir) # 부모 디렉토리의 파일을 가져올 수 있도록 설정\n",
    "\n",
    "from dataset.mnist import load_mnist # dataset 패키지안에 mnist 모듈에 load_mnist 함수를 가져와라.\n",
    "\n",
    "(x_train, t_train), (x_test, t_test) = load_mnist(flatten=False, normalize= False) # 숫자5를 보기위해 flatten = False로 준 상태\n",
    "\n",
    "# x_train : 데이터 \n",
    "# x_test : 테스트 데이터\n",
    "# t_train : 정답 \n",
    "# t_test : 테스트 데이터의 정답\n",
    "\n",
    "img = x_train[0]\n",
    "label = t_train[0]\n",
    "\n",
    "print(img)\n",
    "print(label) # 5\n",
    "print(img.shape)  # (1, 28, 28) \n",
    "# 1(색조) = 흑백 만약, 3(색조) = Color(R,G,B) // (28,28) -> 가로/ 세로 사이즈"
   ]
  },
  {
   "cell_type": "markdown",
   "metadata": {},
   "source": [
    "## 예제3. 위의 숫자 5를 img_show()함수로 시각화 하시오."
   ]
  },
  {
   "cell_type": "code",
   "execution_count": null,
   "metadata": {},
   "outputs": [],
   "source": [
    "import numpy as np\n",
    "from dataset.mnist import load_mnist\n",
    "from PIL import Image\n",
    "\n",
    "def img_show(): # 이미지를 출력하는 함수\n",
    "    pil_img = Image.fromarray(np.uint8(img)) # 파이썬 이미지 객체로 변환하는 코드.\n",
    "    pil_img.show() # pil_img 객체의 show라는 메소드를 샐행.\n",
    "    \n",
    "(x_train, t_train), (x_test, t_test) = load_mnist(flatten = False, normalize = False)\n",
    "\n",
    "img = x_train[0]\n",
    "img = img.reshape(28,28) # 2차원으로 변경. (1,28,28) --> (28,28)\n",
    "\n",
    "img_show()"
   ]
  },
  {
   "cell_type": "markdown",
   "metadata": {},
   "source": [
    "## 예제4. 훈련 데이터의 정답에 해당하는 t_train[0]이 숫자 5를 나타내는데  \n",
    "## 이를 one hot encoding 해서 출력하시오."
   ]
  },
  {
   "cell_type": "code",
   "execution_count": null,
   "metadata": {},
   "outputs": [],
   "source": [
    "import numpy as np\n",
    "from dataset.mnist import load_mnist\n",
    "from PIL import Image\n",
    "\n",
    "def img_show(): # 이미지를 출력하는 함수\n",
    "    pil_img = Image.fromarray(np.uint8(img)) # 파이썬 이미지 객체로  변환하는 코드.\n",
    "    pil_img.show() # pil_img 객체의 show라는 메소드를 샐행.\n",
    "    \n",
    "(x_train, t_train), (x_test, t_test) = load_mnist(flatten=False, normalize= False, one_hot_label = True)\n",
    "\n",
    "print(t_train[0]) \n",
    "\n",
    "# 인덱스 숫자5에 해당되는 부분만 1로 바뀌어져 있다.\n",
    "# [0. 0. 0. 0. 0. 1. 0. 0. 0. 0.] (※ 오차함수 구하기 쉽게 하기 위해서 one hot encoding를 한다.)"
   ]
  },
  {
   "cell_type": "markdown",
   "metadata": {},
   "source": [
    "### ※ one hot encoding을 하는 이유는? \n",
    "\n",
    "오차함수에서 오차를 구하기 쉽게 하기 위해서."
   ]
  },
  {
   "cell_type": "markdown",
   "metadata": {},
   "source": [
    "## 개와 고양이 사진 분류이면 one hot encoding?\n",
    "\n",
    "[1 0 ] # 개  \n",
    "[0,1] # 고양이"
   ]
  },
  {
   "cell_type": "markdown",
   "metadata": {},
   "source": [
    "## ■ mnist 흑백 이미지와 rgb 컬러 이미지의 shape의 차이"
   ]
  },
  {
   "cell_type": "markdown",
   "metadata": {},
   "source": [
    "### 1. mnist데이터의 shape를 확인하시오!"
   ]
  },
  {
   "cell_type": "code",
   "execution_count": null,
   "metadata": {},
   "outputs": [],
   "source": [
    "# mnist데이터의 shape를 확인\n",
    "\n",
    "(x_train, t_train), (x_test, t_test) = load_mnist(flatten=False, normalize= False, one_hot_label = True)\n",
    "\n",
    "print(x_train.shape)  # (60000, 1, 28, 28)\n",
    "\n",
    "# 60000 : 전체 데이터 사진수, 1: 색조(흑백), 28(가로의 픽셀개수), 28(세로의 픽셀개수)"
   ]
  },
  {
   "cell_type": "markdown",
   "metadata": {},
   "source": [
    "### 2. 아이린 사진의 shape를 확인하시오!"
   ]
  },
  {
   "cell_type": "code",
   "execution_count": null,
   "metadata": {},
   "outputs": [],
   "source": [
    "# RGB를 설명하기 위한 사진\n",
    "\n",
    "from PIL import Image\n",
    "import numpy as np\n",
    "import matplotlib.pyplot as plt\n",
    "import matplotlib.image as mgimg\n",
    "\n",
    "img = Image.open('d:\\\\배경화면.jpg')\n",
    "img_pixel = np.array(img)\n",
    "plt.imshow(img_pixel)\n",
    "print(img_pixel.shape)\n",
    "\n",
    "# (500, 500, 3) <-- 가로, 세로, 색조\n",
    "# 색조 3 : Red, Green, Blue"
   ]
  },
  {
   "cell_type": "markdown",
   "metadata": {},
   "source": [
    "## 예제1. 아이린 사진에서 red 부분의 행렬만 출력하고 red 부분만 이미지로 시각화 하시오!"
   ]
  },
  {
   "cell_type": "code",
   "execution_count": null,
   "metadata": {},
   "outputs": [],
   "source": [
    "from PIL import Image\n",
    "import numpy as np\n",
    "import matplotlib.pyplot as plt\n",
    "import matplotlib.image as mgimg\n",
    "\n",
    "img = Image.open('d:\\\\배경화면.jpg')\n",
    "img_pixel = np.array(img)\n",
    "\n",
    "print(img_pixel[:, :, 0]) # red 부분의 행렬이 출력\n",
    "\n",
    "img_pixel[:,:,1] = 0 # green부분을 0으로 다바꿈\n",
    "img_pixel[:,:,2] = 0 # blue 부분을 0으로 다바꿈\n",
    "plt.imshow(img_pixel)\n",
    "plt.show()"
   ]
  },
  {
   "cell_type": "markdown",
   "metadata": {},
   "source": [
    "## 예제2. 아이린 사진의 green 부분만 시각화 하시오!"
   ]
  },
  {
   "cell_type": "code",
   "execution_count": null,
   "metadata": {},
   "outputs": [],
   "source": [
    "from PIL import Image\n",
    "import numpy as np\n",
    "import matplotlib.pyplot as plt\n",
    "import matplotlib.image as mgimg\n",
    "\n",
    "img = Image.open('d:\\\\배경화면.jpg')\n",
    "img_pixel = np.array(img)\n",
    "\n",
    "print(img_pixel[:, :, 1]) # green 부분의 행렬이 출력\n",
    "\n",
    "img_pixel[:,:,0] = 0 # red부분을 0으로 다바꿈\n",
    "img_pixel[:,:,2] = 0 # blue 부분을 0으로 다바꿈\n",
    "plt.imshow(img_pixel)\n",
    "plt.show()"
   ]
  },
  {
   "cell_type": "markdown",
   "metadata": {},
   "source": [
    "## ■ 저자가 이미 만들어온 가중치(W)와 바이어스(b)가 들어있는 pickle 파일을 파이썬으로   \n",
    "## 불러와서 가중치와 바이어스의 shape를 확인하는 작업"
   ]
  },
  {
   "cell_type": "code",
   "execution_count": null,
   "metadata": {},
   "outputs": [],
   "source": [
    "import pickle # 숫자와 같은 데이터를 binary file로 생성\n",
    "\n",
    "def init_network():\n",
    "    with open(\"D:\\\\sample_weight.pkl\", \"rb\") as f:\n",
    "        network = pickle.load(f)\n",
    "    return network\n",
    "\n",
    "network = init_network()\n",
    "print(network['W1'].shape) # (784, 50) 은닉1층의 노드수 50개\n",
    "print(network['W2'].shape) # (50, 100) 은닉2층의 노드수 100개\n",
    "print(network['W3'].shape) # (100, 10) 출력층의 노드수 10개\n",
    "print(network['b1'].shape) # 은닉 1층의 바이어스 50개\n",
    "print(network['b2'].shape) # 은닉 2층의 바이어스 100개\n",
    "print(network['b3'].shape) # 은닉 3층의 바이어스 10개"
   ]
  },
  {
   "cell_type": "markdown",
   "metadata": {},
   "source": [
    "## ■ 필기체 데이터를 입력받아 어떤 숫자인지 예측하는 3층 신경망 구현\n",
    "\n",
    "1. get_data() 함수 : mnist 데이터를 로드해서 테스트 데이터(10000장)들을 가져오는 함수\n",
    "2. init_network() 함수 : 저자가 만든 sample_weight.pkl 파일을 파이썬으로 불러오는 함수\n",
    "3. predict() 함수 : 3층 신경망을 쌓아서 필기체 데이터를 예측하는 신경망 함수"
   ]
  },
  {
   "cell_type": "code",
   "execution_count": null,
   "metadata": {},
   "outputs": [],
   "source": [
    "# 필요한 패키지들을 로드한다.\n",
    "\n",
    "import sys,os\n",
    "import pickle\n",
    "sys.path.append(os.pardir)\n",
    "from dataset.mnist import load_mnist\n",
    "from common.functions import sigmoid, softmax, np\n",
    "\n",
    "# get_data 함수 만들기.\n",
    "def get_data():\n",
    "    (x_train, t_train), (x_test, t_test) = \\\n",
    "    load_mnist(normalize = True, flatten = True, one_hot_label = False)\n",
    "    return x_test, t_test\n",
    "\n",
    "# init_network() 함수 만들기\n",
    "def init_network():\n",
    "    with open(\"D:\\\\sample_weight.pkl\", \"rb\") as f:\n",
    "        network = pickle.load(f)\n",
    "    return network\n",
    "\n",
    "# predict() 함수 만들기\n",
    "def predict(network,x):\n",
    "    # x에 사진 한장만 넣어서 확인할 예정\n",
    "    W1, W2, W3 = network['W1'], network['W2'], network['W3']\n",
    "    b1, b2, b3 = network['b1'], network['b2'], network['b3']\n",
    "\n",
    "    # 1층\n",
    "    \n",
    "    a1 = np.dot(x, W1) + b1\n",
    "    z1 = sigmoid(a1)\n",
    "    \n",
    "    # 2층\n",
    "    a2 = np.dot(z1,W2) + b2\n",
    "    z2 = sigmoid(a2)\n",
    "    \n",
    "    # 3층\n",
    "    a3 = np.dot(z2, W3) + b3\n",
    "    y = softmax(a3)\n",
    "    \n",
    "    return y\n",
    "\n",
    "# 이미지 1개를 신경망에 넣어본다.\n",
    "    \n",
    "x, t = get_data()\n",
    "network = init_network()\n",
    "y = predict(network, x[0])\n",
    "print(t[0]) #7\n",
    "print(y)\n",
    "print(np.argmax(y)) #벡터의 제일 큰 숫자의 원소의 인덱스 번호 출력"
   ]
  },
  {
   "cell_type": "markdown",
   "metadata": {},
   "source": [
    "## 문제38 (오늘의 마지막 문제). 지금 만든 신경망에 테스터 데이터를 100장을 입력하고 100장중에 몇장을 신경망이 맞추었는지 확인하시오!\n",
    "\n",
    "\n",
    "### 결과 : 정확도 96%"
   ]
  },
  {
   "cell_type": "code",
   "execution_count": null,
   "metadata": {},
   "outputs": [],
   "source": [
    "# -*- coding: utf-8 -*-\n",
    "\"\"\"\n",
    "Created on Thu Dec 19 16:11:01 2019\n",
    "\n",
    "@author: wdp\n",
    "\"\"\"\n",
    "# 필요한 패키지들을 로드한다.\n",
    "\n",
    "import sys,os\n",
    "import pickle\n",
    "sys.path.append(os.pardir)\n",
    "from dataset.mnist import load_mnist\n",
    "from common.functions import sigmoid, softmax, np\n",
    "\n",
    "# get_data 함수 만들기.\n",
    "def get_data():\n",
    "    (x_train, t_train), (x_test, t_test) = \\\n",
    "    load_mnist(normalize = True, flatten = True, one_hot_label = False)\n",
    "    return x_test, t_test\n",
    "\n",
    "# init_network() 함수 만들기\n",
    "def init_network():\n",
    "    with open(\"D:\\\\sample_weight.pkl\", \"rb\") as f:\n",
    "        network = pickle.load(f)\n",
    "    return network\n",
    "\n",
    "# predict() 함수 만들기\n",
    "def predict(network,x):\n",
    "    # x에 사진 한장만 넣어서 확인할 예정\n",
    "    W1, W2, W3 = network['W1'], network['W2'], network['W3']\n",
    "    b1, b2, b3 = network['b1'], network['b2'], network['b3']\n",
    "\n",
    "    # 1층\n",
    "    \n",
    "    a1 = np.dot(x, W1) + b1\n",
    "    z1 = sigmoid(a1)\n",
    "    \n",
    "    # 2층\n",
    "    a2 = np.dot(z1,W2) + b2\n",
    "    z2 = sigmoid(a2)\n",
    "    \n",
    "    # 3층\n",
    "    a3 = np.dot(z2, W3) + b3\n",
    "    y = softmax(a3)\n",
    "    \n",
    "    return y\n",
    "\n",
    "# 이미지 1개를 신경망에 넣어본다.\n",
    "    \n",
    "x, t = get_data()\n",
    "network = init_network()\n",
    "cnt = 0\n",
    "\n",
    "for i in range(100):\n",
    "    y = predict(network, x[i])\n",
    "    if t[i] == np.argmax(y):\n",
    "        cnt += 1\n",
    "\n",
    "result = (cnt/100) * 100\n",
    "print(result)"
   ]
  }
 ],
 "metadata": {
  "kernelspec": {
   "display_name": "Python 3",
   "language": "python",
   "name": "python3"
  },
  "language_info": {
   "codemirror_mode": {
    "name": "ipython",
    "version": 3
   },
   "file_extension": ".py",
   "mimetype": "text/x-python",
   "name": "python",
   "nbconvert_exporter": "python",
   "pygments_lexer": "ipython3",
   "version": "3.7.4"
  }
 },
 "nbformat": 4,
 "nbformat_minor": 2
}
