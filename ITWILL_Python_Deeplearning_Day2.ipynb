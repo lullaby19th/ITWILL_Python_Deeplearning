{
 "cells": [
  {
   "cell_type": "markdown",
   "metadata": {},
   "source": [
    "## 2장. 퍼셉트론(perceptron)\n",
    "\n",
    "퍼셉트론이란\n",
    "\n",
    "퍼셉트론 ? 인간의 뇌세포 하나를 컴퓨터로 구현한것 \n",
    "\n",
    "1957년에 프랑크 로젠 블라트가 퍼셉트론 알고리즘을 고안했다.  \n",
    "사람의 뇌의 동작을 전기 스위치 온/오프로 흉내 낼 수 있다는 이론을 증명하였다.\n",
    "\n",
    "\n",
    "간단히 말하면 인간의 신경세포 하나를 흉내를 냈는데 고등학교 생물시간에 배운 3가지 용어?\n",
    "\n",
    "1. 자극(stimulus)\n",
    "2. 반응(response)\n",
    "3. 역치(theshold)\n",
    "\n",
    "\" 특정 __자극__이 있다면 그 자극이 __어느 역치 이상__이여야하지만 세포가 반응한다.\"\n",
    "\n",
    "예 : 짜게 먹는 사람은 자기가 평소에 먹는 만큼 음식이 짜지 않으면 싱겁다고 느낀다.( 역치 이하의 자극은 무시함.)"
   ]
  },
  {
   "cell_type": "markdown",
   "metadata": {},
   "source": [
    "## ■ 2. 단순한 논리회로\n",
    "\n",
    "AND 게이트 퍼셉트론을 구현하는 방법\n",
    "\n",
    "그림 2-2"
   ]
  },
  {
   "cell_type": "code",
   "execution_count": null,
   "metadata": {},
   "outputs": [],
   "source": [
    "# 입력값\n",
    "\n",
    "inputs = np.array([[0,0], [0,1], [1,0],[1,1]])\n",
    "\n",
    "#가중치\n",
    "\n",
    "w = np.array([0.4],[0.35],[0.05])\n",
    "\n",
    "# target(결과)\n",
    "\n",
    "target = np.array([0],[0],[0],[1])"
   ]
  },
  {
   "cell_type": "markdown",
   "metadata": {},
   "source": [
    "## 문제14. 위의 inputs, w, target의 shape를 확인하시오!"
   ]
  },
  {
   "cell_type": "code",
   "execution_count": 9,
   "metadata": {},
   "outputs": [
    {
     "name": "stdout",
     "output_type": "stream",
     "text": [
      "(4, 2)\n",
      "(3, 1)\n",
      "(4, 1)\n"
     ]
    }
   ],
   "source": [
    "import numpy as np\n",
    "\n",
    "#입력값\n",
    "inputs = np.array([[0,0], [0,1], [1,0], [1,1]])\n",
    "\n",
    "#가중치\n",
    "w = np.array([[0.4],[0.35],[0.05]])\n",
    "\n",
    "# target(결과)\n",
    "\n",
    "target = np.array([[0],[0],[0],[1]])\n",
    "\n",
    "print(inputs.shape) #(4,2)\n",
    "print(w.shape) #(3,1)\n",
    "print(target.shape) #(4,1)"
   ]
  },
  {
   "cell_type": "markdown",
   "metadata": {},
   "source": [
    "## 문제15. and 게이트 퍼셉트론 함수를 생성하시오!"
   ]
  },
  {
   "cell_type": "code",
   "execution_count": 7,
   "metadata": {},
   "outputs": [
    {
     "name": "stdout",
     "output_type": "stream",
     "text": [
      "0\n",
      "0\n",
      "0\n",
      "1\n"
     ]
    }
   ],
   "source": [
    "def AND(x1,x2):\n",
    "    w1, w2, theta = 0.5, 0.5, 0.7 # theta = 세타\n",
    "    tmp = x1*w1 + x2*w2\n",
    "    if tmp <= theta:\n",
    "        return 0\n",
    "    if tmp > theta:\n",
    "        return 1\n",
    "\n",
    "print(AND(0,0))\n",
    "print(AND(1,0))\n",
    "print(AND(0,1))\n",
    "print(AND(1,1))"
   ]
  },
  {
   "cell_type": "markdown",
   "metadata": {},
   "source": [
    "## 문제16. OR게이트 퍼셉트론 함수를 생성하시오!"
   ]
  },
  {
   "cell_type": "code",
   "execution_count": 13,
   "metadata": {},
   "outputs": [
    {
     "name": "stdout",
     "output_type": "stream",
     "text": [
      "0\n",
      "1\n",
      "1\n",
      "1\n"
     ]
    }
   ],
   "source": [
    "def OR(x1,x2):\n",
    "    w1, w2, theta = 0.5, 0.5, 0.3\n",
    "    tmp = x1*w1 + x2*w2\n",
    "    if tmp <= theta:\n",
    "        return 0\n",
    "    elif tmp > theta:\n",
    "        return 1\n",
    "\n",
    "print(OR(0,0))\n",
    "print(OR(1,0))\n",
    "print(OR(0,1))\n",
    "print(OR(1,1))"
   ]
  },
  {
   "cell_type": "markdown",
   "metadata": {},
   "source": [
    "## 가중치와 편향의 도입\n",
    "\n",
    "w1, w2, theta = 0.5, 0.5, 0.3\n",
    "\n",
    "식 2.1   \n",
    "식 2.2 \n",
    "\n",
    "현재 식2.1과 식2.2는 기호표기만 다를뿐 그 의미는 같습니다.  \n",
    "여기에서 b를 편향(bias)라고 하며 w1과 w2는 가중치 입니다.  \n",
    "퍼셉트론은 입력신호에 가중치를 곱한 값과 편향을 합하여,  \n",
    "그 값이 0을 넘으면 1을 출력하고 그렇지 않으면 0을 출력합니다.  \n",
    "\n",
    "\n",
    "__딥려닝 면접 문제1__  :__ 신경망에서 편향이 왜 필요한가요?\n",
    "\n",
    "__편향(bias)__ 은 뉴런이 얼마나 쉽게 활성화(결과로 1을 출력)하느냐를 조정하는 매개변수 입니다.  \n",
    "만약에, and게이트처럼 입력신호가 x1과 x2값을 받는 경우에 편향(x0 값이)이 없다면 target을 분류하는 직선은 무조건 원점을 통과해야만 한다.  \n",
    "때문에, 분류를 제대로 할 수 없게 되니다.\n",
    "\n",
    "__딥러닝 면접 문제2__ : 가중치(w)는 무엇인가요?\n",
    "\n",
    "__가중치__는 각 입력신호가 결과에 주는 영향력(중요도)를 조절하는 매개변수입니다.  \n",
    "ex) 고양이의 귀가 얼마나 중요하냐? 중요하면 가중치가 커진다.  "
   ]
  },
  {
   "cell_type": "markdown",
   "metadata": {},
   "source": [
    "## 문제17. NAND 게이트 함수를 생성하시오."
   ]
  },
  {
   "cell_type": "code",
   "execution_count": 20,
   "metadata": {},
   "outputs": [
    {
     "name": "stdout",
     "output_type": "stream",
     "text": [
      "1\n",
      "1\n",
      "1\n",
      "0\n"
     ]
    }
   ],
   "source": [
    "# AND 코딩한거에다가 w1,w2,theta 다 마이너스 붙여버리면됨.\n",
    "\n",
    "def NAND(x1,x2):\n",
    "    w1, w2, theta = - 0.5, - 0.5, -0.7\n",
    "    tmp = x1*w1 + x2*w2 # tmp값을 0으로 설정한 상황이 아님.\n",
    "    if tmp <= theta:\n",
    "        return 0\n",
    "    \n",
    "    elif tmp > theta:\n",
    "        return 1\n",
    "\n",
    "print(NAND(0,0)) # 1\n",
    "print(NAND(1,0)) # 1\n",
    "print(NAND(0,1)) # 1\n",
    "print(NAND(1,1)) # 0"
   ]
  },
  {
   "cell_type": "markdown",
   "metadata": {},
   "source": [
    "## 문제18. 위의 NAND게이트 함수에 편향을 넣으시오!"
   ]
  },
  {
   "cell_type": "code",
   "execution_count": 21,
   "metadata": {},
   "outputs": [
    {
     "name": "stdout",
     "output_type": "stream",
     "text": [
      "1\n",
      "1\n",
      "1\n",
      "0\n"
     ]
    }
   ],
   "source": [
    "def NAND(x1,x2):\n",
    "    import numpy as np\n",
    "    x = np.array([x1,x2])\n",
    "    w = np.array([-0.5, -0.5])\n",
    "    b = 0.7\n",
    "    \n",
    "    tmp = np.sum(x*w) + b # tmp는 0으로 설정한 상황. 따라서, b(편향)값은 + 값으로 주었음.\n",
    "    \n",
    "    if tmp <= 0:\n",
    "        return 0\n",
    "    \n",
    "    else:\n",
    "        return 1\n",
    "\n",
    "print(NAND(0,0)) # 1\n",
    "print(NAND(1,0)) # 1\n",
    "print(NAND(0,1)) # 1\n",
    "print(NAND(1,1)) # 0"
   ]
  },
  {
   "cell_type": "markdown",
   "metadata": {},
   "source": [
    "## 문제19. AND 게이트 퍼셉트론 함수도 위와 같이 편향을 주어서 만드시오!"
   ]
  },
  {
   "cell_type": "code",
   "execution_count": 24,
   "metadata": {},
   "outputs": [
    {
     "name": "stdout",
     "output_type": "stream",
     "text": [
      "0\n",
      "0\n",
      "0\n",
      "1\n"
     ]
    }
   ],
   "source": [
    "def AND(x1,x2):\n",
    "    import numpy as np\n",
    "    x = np.array([x1,x2])\n",
    "    w = np.array([0.5, 0.5])\n",
    "    b = -0.7\n",
    "    \n",
    "    tmp = np.sum(x*w) + b # tmp는 0으로 설정한 상황. 따라서, b(편향)값은 (-)값으로 주었음.\n",
    "    \n",
    "    if tmp <= 0:\n",
    "        return 0\n",
    "    \n",
    "    else:\n",
    "        return 1\n",
    "\n",
    "\n",
    "\n",
    "print(AND(0,0)) # 0\n",
    "print(AND(1,0)) # 0\n",
    "print(AND(0,1)) # 0\n",
    "print(AND(1,1)) # 1"
   ]
  },
  {
   "cell_type": "markdown",
   "metadata": {},
   "source": [
    "## 문제20. 위와 같이 편향을 넣어서 OR게이트 함수를 만드시오!"
   ]
  },
  {
   "cell_type": "code",
   "execution_count": 26,
   "metadata": {},
   "outputs": [
    {
     "name": "stdout",
     "output_type": "stream",
     "text": [
      "0\n",
      "1\n",
      "1\n",
      "1\n"
     ]
    }
   ],
   "source": [
    "def OR(x1,x2):\n",
    "    import numpy as np\n",
    "    x = np.array([x1,x2])\n",
    "    w = np.array([0.5, 0.5])\n",
    "    b =  - 0.3\n",
    "    \n",
    "    tmp = np.sum(x*w) + b \n",
    "    \n",
    "    if tmp <= 0:\n",
    "        return 0\n",
    "    \n",
    "    else:\n",
    "        return 1\n",
    "\n",
    "# Tip.\n",
    "# 0 <= x1,x2 <=1 (0에서 1사이의 값)\n",
    "# b는 자유 값\n",
    "# 어쨌든 결과값만 제대로 나오면 됨.\n",
    "# 변수값만 바꿀 것, 코드는 변경하지 말 것(ex. return 값)\n",
    "\n",
    "print(OR(0,0)) # 0\n",
    "print(OR(1,0)) # 1\n",
    "print(OR(0,1)) # 1\n",
    "print(OR(1,1)) # 1"
   ]
  },
  {
   "cell_type": "markdown",
   "metadata": {},
   "source": [
    "## 문제21. (점심시간 문제) XOR게이트 함수를 생성하시오!\n",
    "## 앞에서 만들었던 AND, OR, NAND 함수를 사용해서 만드시오! (그림 2-12 게이트진리표)"
   ]
  },
  {
   "cell_type": "code",
   "execution_count": null,
   "metadata": {},
   "outputs": [],
   "source": [
    "def NAND(x1,x2):\n",
    "    import numpy as np\n",
    "    x = np.array([x1,x2])\n",
    "    w = np.array([-0.5, -0.5])\n",
    "    b = 0.7\n",
    "    \n",
    "    tmp = np.sum(x*w) + b # tmp는 0으로 설정한 상황. 따라서, b(편향)값은 +값으로 주었음.\n",
    "    \n",
    "    if tmp <= 0:\n",
    "        return 0\n",
    "    \n",
    "    else:\n",
    "        return 1\n",
    "\n",
    "\n",
    "def OR(x1,x2):\n",
    "    import numpy as np\n",
    "    x = np.array([x1,x2])\n",
    "    w = np.array([0.5, 0.5])\n",
    "    b =  - 0.3\n",
    "    \n",
    "    tmp = np.sum(x*w) + b \n",
    "    \n",
    "    if tmp <= 0:\n",
    "        return 0\n",
    "    \n",
    "    else:\n",
    "        return 1\n",
    "\n",
    "\n",
    "\n",
    "def XOR(x1,x2):\n",
    "    import numpy as np\n",
    "    s = np.array([NAND(x1,x2),OR(x1,x2)])\n",
    "    w = np.array([0.5, 0.5])\n",
    "    b = -0.7\n",
    "    \n",
    "    tmp = np.sum(s*w) + b \n",
    "    \n",
    "    if tmp <= 0:\n",
    "        return 0\n",
    "    \n",
    "    else:\n",
    "        return 1\n",
    "\n",
    "\n",
    "print(XOR(0,0)) # 0\n",
    "print(XOR(1,0)) # 1\n",
    "print(XOR(0,1)) # 1\n",
    "print(XOR(1,1)) # 0"
   ]
  },
  {
   "cell_type": "code",
   "execution_count": null,
   "metadata": {},
   "outputs": [],
   "source": [
    "def NAND(x1,x2):\n",
    "    import numpy as np\n",
    "    x = np.array([x1,x2])\n",
    "    w = np.array([-0.5, -0.5])\n",
    "    b = 0.7\n",
    "    \n",
    "    tmp = np.sum(x*w) + b # tmp는 0으로 설정한 상황. 따라서, b(편향)값은 +값으로 주었음.\n",
    "    \n",
    "    if tmp <= 0:\n",
    "        return 0\n",
    "    \n",
    "    else:\n",
    "        return 1\n",
    "\n",
    "\n",
    "def OR(x1,x2):\n",
    "    import numpy as np\n",
    "    x = np.array([x1,x2])\n",
    "    w = np.array([0.5, 0.5])\n",
    "    b =  - 0.3\n",
    "    \n",
    "    tmp = np.sum(x*w) + b \n",
    "    \n",
    "    if tmp <= 0:\n",
    "        return 0\n",
    "    \n",
    "    else:\n",
    "        return 1\n",
    "    \n",
    "def AND(x1,x2):\n",
    "    import numpy as np\n",
    "    x = np.array([x1,x2])\n",
    "    w = np.array([0.5, 0.5])\n",
    "    b = -0.7\n",
    "    \n",
    "    tmp = np.sum(x*w) + b # tmp는 0으로 설정한 상황. 따라서, b(편향)값은 (-)값으로 주었음.\n",
    "    \n",
    "    if tmp <= 0:\n",
    "        return 0\n",
    "    \n",
    "    else:\n",
    "        return 1  \n",
    "    \n",
    "def XOR(x1, x2) :\n",
    "    return AND(NAND(x1, x2), OR(x1, x2))\n",
    "\n",
    "print(XOR(0, 0))\n",
    "print(XOR(0, 1))\n",
    "print(XOR(1, 0))\n",
    "print(XOR(1, 1))"
   ]
  },
  {
   "cell_type": "markdown",
   "metadata": {},
   "source": [
    "## 4개의 퍼셉트론이 분류하는 그림 4개\n",
    "\n",
    "1. AND 게이트 : 분류 하는 선이 직선\n",
    "2. OR 게이트 : 분류 하는 선이 직선\n",
    "3. NAND 게이트 : 분류 하는 선이 직선\n",
    "4. XOR 게이트 : 분류를 하는 직선 즉 선형이 아니라, __곡선(비선형)__이다."
   ]
  },
  {
   "cell_type": "markdown",
   "metadata": {},
   "source": [
    "## 파이썬 numpy 를 이용해서 퍼셉트론의 가중치와 편향을 컴퓨터가 알아내는 코드구현 \n",
    "\n",
    "\n",
    "\" 행렬 연산은 numpy를 이용해야 구현이 쉽다.\"  \n",
    "\" 파이썬의 리스트로 행렬 연산을 하지 않고 반드시 numpy array 로 변환해서 연산을 수행해야 코드가 심플해지고 구현이 쉽다.\"  "
   ]
  },
  {
   "cell_type": "markdown",
   "metadata": {},
   "source": [
    "## 예제1. 아래의 두 행렬의 내적을 출력하시오!\n",
    "\n",
    "x * w = ?"
   ]
  },
  {
   "cell_type": "code",
   "execution_count": 32,
   "metadata": {},
   "outputs": [
    {
     "name": "stdout",
     "output_type": "stream",
     "text": [
      "[[-0.4]\n",
      " [ 0. ]\n",
      " [-0.3]\n",
      " [ 0.1]]\n"
     ]
    }
   ],
   "source": [
    "import numpy as np\n",
    "\n",
    "x = np.array([[-1,0,0],[-1,1,0],[-1,0,1],[-1,1,1]]) # 4x3 행렬\n",
    "w = np.array([[0.4],[0.4],[0.1]]) # 3x1 행렬\n",
    "\n",
    "result = np.dot(x,w) # 4x1 행렬\n",
    "\n",
    "print(result)\n",
    "\n",
    "# result = x@w 도 가능하다. ( @가 np.dot() 기능과 같다 )"
   ]
  },
  {
   "cell_type": "code",
   "execution_count": 75,
   "metadata": {},
   "outputs": [
    {
     "name": "stdout",
     "output_type": "stream",
     "text": [
      "[[-0.4]\n",
      " [ 0. ]\n",
      " [-0.3]\n",
      " [ 0.1]]\n"
     ]
    }
   ],
   "source": [
    "import numpy as np\n",
    "\n",
    "x = np.array([[-1,0,0],[-1,1,0],[-1,0,1],[-1,1,1]]) # 4x3 행렬\n",
    "w = np.array([[0.4],[0.4],[0.1]]) # 3x1 행렬\n",
    "\n",
    "\n",
    "result = x@w\n",
    "\n",
    "print(result)"
   ]
  },
  {
   "cell_type": "markdown",
   "metadata": {},
   "source": [
    "## 예제2. 위의 x값과 w값을 이용해서 아래의 식을 구현하시오!\n",
    "\n",
    "-1 0 0 * 0.4 0.4 0.1 = -0.4\n",
    "\n",
    "x[0] * w.T (T는 전치로하겠다는 뜻)\n",
    "\n",
    "전치시킨다 = 1x3 행렬 --> 3x1 행렬"
   ]
  },
  {
   "cell_type": "code",
   "execution_count": 82,
   "metadata": {},
   "outputs": [
    {
     "name": "stdout",
     "output_type": "stream",
     "text": [
      "[[0.4 0.4 0.1]]\n",
      "0.0\n",
      "0.0\n"
     ]
    }
   ],
   "source": [
    "import numpy as np\n",
    "\n",
    "x = np.array([[-1,-1,0]]) # 1x3 행렬\n",
    "\n",
    "w = np.array([[0.4],[0.4],[0.1]]) # 3x1 행렬\n",
    "\n",
    "print(w.T) # w.T는 1x3행렬\n",
    "\n",
    "result = np.sum(x[0] * w.T)\n",
    "result2 = np.sum(x * w.T)\n",
    "\n",
    "print(result)\n",
    "print(result2)"
   ]
  },
  {
   "cell_type": "markdown",
   "metadata": {},
   "source": [
    "### ※ 위의코드는 내적과 같지만 이렇게 표현하는 방법도 있다는 것을 보여줌."
   ]
  },
  {
   "cell_type": "markdown",
   "metadata": {},
   "source": [
    "## 예제3. 위의 식을 이용해서 predict 함수를 아래와 같이 생성하시오"
   ]
  },
  {
   "cell_type": "code",
   "execution_count": null,
   "metadata": {},
   "outputs": [],
   "source": [
    "def predict(x,w):\n",
    "    a = np.sum(x*w.T)\n",
    "    return a"
   ]
  },
  {
   "cell_type": "markdown",
   "metadata": {},
   "source": [
    "## 예제4. 위의 predict 함수를 이용해서 입력값 x와 가중치 w를 받아서 아래의 결과가 출력되게 하시오."
   ]
  },
  {
   "cell_type": "code",
   "execution_count": null,
   "metadata": {},
   "outputs": [],
   "source": [
    "\"\"\"\n",
    "x = np.array([[-1,0,0],[-1,1,0],[-1,0,1],[-1,1,1]]) # 4x3 행렬\n",
    "w = np.array([[0.4],[0.4],[0.1]]) # 3x1 행렬\n",
    "\n",
    "for 루프문 & predict 사용\n",
    "\n",
    "결과:\n",
    "\n",
    "-0.4\n",
    "-0.3\n",
    "-0.3\n",
    "-0.1\n",
    "\n",
    "\"\"\""
   ]
  },
  {
   "cell_type": "code",
   "execution_count": 2,
   "metadata": {},
   "outputs": [
    {
     "name": "stdout",
     "output_type": "stream",
     "text": [
      "-0.4\n",
      "0.0\n",
      "-0.30000000000000004\n",
      "0.1\n",
      "-0.6000000000000001\n"
     ]
    }
   ],
   "source": [
    "# x와 w곱의 합까지 포현된 ver.\n",
    "\n",
    "import numpy as np\n",
    "\n",
    "def predict(x,w):\n",
    "    a = np.sum(x*w.T) # x와 T의 열의 수가 같아야 곱을 진행할 수 있다. (따라서 w.T로 전치시킴)\n",
    "    return a\n",
    "\n",
    "x = np.array([[-1,0,0],[-1,1,0],[-1,0,1],[-1,1,1]]) # 4x3 행렬\n",
    "w = np.array([[0.4],[0.4],[0.1]]) # 3x1 행렬\n",
    "\n",
    "for i in range(4):\n",
    "    print(predict(x[i],w)) # 부분\n",
    "\n",
    "print(predict(x,w)) # 전체"
   ]
  },
  {
   "cell_type": "markdown",
   "metadata": {},
   "source": [
    "### ※ active function(step function)을 위의 결과에 적용할시\n",
    "\n",
    "-0.4 --> 0  \n",
    "0  --> 0  \n",
    "-0.3 --> 0  \n",
    "0.1 --> 1  "
   ]
  },
  {
   "cell_type": "markdown",
   "metadata": {},
   "source": [
    "## 예제5. 위의 결과를 출력하는 계단함수를 생성하시오!"
   ]
  },
  {
   "cell_type": "code",
   "execution_count": 71,
   "metadata": {},
   "outputs": [
    {
     "name": "stdout",
     "output_type": "stream",
     "text": [
      "False\n",
      "True\n",
      "0\n",
      "1\n"
     ]
    }
   ],
   "source": [
    "print(-0.4 > 0)\n",
    "print (0.1 > 0)\n",
    "\n",
    "x = np.array(-0.4 > 0, dtype = np.int) # array(0)으로 출력됨.\n",
    "y = np.array(0.1 > 0, dtype = np.int) # array(1)로 출력됨.\n",
    "\n",
    "print (x)\n",
    "print(y)"
   ]
  },
  {
   "cell_type": "code",
   "execution_count": 72,
   "metadata": {},
   "outputs": [
    {
     "name": "stdout",
     "output_type": "stream",
     "text": [
      "0\n"
     ]
    }
   ],
   "source": [
    "def step_function(x):\n",
    "    y = np.array(x > 0) # y의 값은 True or False로 나오는 상황\n",
    "    return y.astype(np.int) # y의 값을 np.int의 형태로 바꾸어라\n",
    "\n",
    "print(step_function(-0.4))"
   ]
  },
  {
   "cell_type": "code",
   "execution_count": 85,
   "metadata": {},
   "outputs": [
    {
     "name": "stdout",
     "output_type": "stream",
     "text": [
      "0\n",
      "0\n",
      "0\n",
      "1\n"
     ]
    }
   ],
   "source": [
    "# step function까지 추가한 ver\n",
    "\n",
    "import numpy as np\n",
    "\n",
    "x = np.array([[-1,0,0],[-1,1,0],[-1,0,1],[-1,1,1]]) # 4x3 행렬\n",
    "w = np.array([[0.4],[0.4],[0.1]]) # 3x1 행렬\n",
    "\n",
    "def step_function(x):\n",
    "    y = np.array(x > 0)\n",
    "    return y.astype(np.int)\n",
    "\n",
    "# predict 함수는 비교하자면 내적과 같다.\n",
    "# predict 함수에 추가적으로 step_funciton을 적용함.\n",
    "\n",
    "def predict(x,w):\n",
    "    a = np.sum(x*w.T)\n",
    "    return step_function(a)\n",
    "\n",
    "\n",
    "for i in range(4):\n",
    "    print(predict(x[i],w))"
   ]
  },
  {
   "cell_type": "markdown",
   "metadata": {},
   "source": [
    "## 예제6. 위의 예측값과 실제 타겟값과의 차이를 출력하는 코드를 완성하시오."
   ]
  },
  {
   "cell_type": "code",
   "execution_count": null,
   "metadata": {},
   "outputs": [],
   "source": [
    "import numpy as np\n",
    "\n",
    "target = np.array([[0],[0],[0],[1]])\n",
    "\n",
    "for i in range(len(target)):\n",
    "    cost = target[i] - predict(x[i],w)\n",
    "    print(cost)"
   ]
  },
  {
   "cell_type": "code",
   "execution_count": 87,
   "metadata": {},
   "outputs": [
    {
     "name": "stdout",
     "output_type": "stream",
     "text": [
      "[0]\n",
      "[-1]\n",
      "[0]\n",
      "[0]\n"
     ]
    }
   ],
   "source": [
    "# 예측값과 실제 타겟값의 차이까지 추가한 ver\n",
    "\n",
    "import numpy as np\n",
    "\n",
    "x = np.array([[-1,0,0],[-1,1,0],[-1,0,1],[-1,1,1]]) # 4x3 행렬\n",
    "w = np.array([[0.3],[0.4],[0.1]]) # 3x1 행렬\n",
    "target = np.array([[0],[0],[0],[1]])\n",
    "\n",
    "def step_function(x):\n",
    "    y = np.array(x > 0)\n",
    "    return y.astype(np.int)\n",
    "\n",
    "# predict 함수는 비교하자면 내적과 같다.\n",
    "# predict 함수에 추가적으로 step_funciton을 적용함.\n",
    "def predict(x,w):\n",
    "    a = np.sum(x*w.T)\n",
    "    return step_function(a)\n",
    "\n",
    "\n",
    "for i in range(len(target)):\n",
    "    cost = target[i] - predict(x[i],w)\n",
    "    print(cost)"
   ]
  },
  {
   "cell_type": "code",
   "execution_count": 8,
   "metadata": {},
   "outputs": [
    {
     "name": "stdout",
     "output_type": "stream",
     "text": [
      "(3, 1)\n",
      "(1, 3)\n",
      "[[0.3]\n",
      " [0.4]\n",
      " [0.1]]\n",
      "(3, 1)\n",
      "(1, 3)\n",
      "[[0.35]\n",
      " [0.35]\n",
      " [0.1 ]]\n",
      "(3, 1)\n",
      "(1, 3)\n",
      "[[0.35]\n",
      " [0.35]\n",
      " [0.1 ]]\n",
      "(3, 1)\n",
      "(1, 3)\n",
      "[[0.35]\n",
      " [0.35]\n",
      " [0.1 ]]\n"
     ]
    }
   ],
   "source": [
    "# wi = wi + r * xi * (t- f(x)) 까지 표현함.\n",
    "\n",
    "import numpy as np\n",
    "\n",
    "x = np.array([[-1,0,0],[-1,1,0],[-1,0,1],[-1,1,1]]) # 4x3 행렬\n",
    "w = np.array([[0.3],[0.4],[0.1]]) # 3x1 행렬\n",
    "target = np.array([[0],[0],[0],[1]])\n",
    "\n",
    "def step_function(x):\n",
    "    y = np.array(x > 0)\n",
    "    return y.astype(np.int)\n",
    "\n",
    "# predict 함수는 비교하자면 내적과 같다.\n",
    "# predict 함수에 추가적으로 step_funciton을 적용함.\n",
    "\n",
    "def predict(x,w):\n",
    "    a = np.sum(x*w.T)\n",
    "    return step_function(a)\n",
    "\n",
    "\n",
    "\n",
    "for i in range(len(target)):\n",
    "    cost = target[i] - predict(x[i],w)\n",
    "    print(w.shape) # 3x1 행렬\n",
    "    print(np.array([0.05 * x[i] * cost]).shape) # 1x3 행렬 ( 따라서 전치를 안하면 더할수가 없는 상황)\n",
    "    w = w + np.array([0.05 * x[i] * cost]).T # 3x1 행렬 + 3x1 행렬\n",
    "    print(w) # 각 입력에 대한 가중치 w0, w1, w2 을 구하는 과정."
   ]
  },
  {
   "cell_type": "code",
   "execution_count": 95,
   "metadata": {},
   "outputs": [
    {
     "name": "stdout",
     "output_type": "stream",
     "text": [
      "[[0.35]\n",
      " [0.35]\n",
      " [0.1 ]]\n",
      "[[0.4]\n",
      " [0.3]\n",
      " [0.1]]\n",
      "[[0.4]\n",
      " [0.3]\n",
      " [0.1]]\n"
     ]
    }
   ],
   "source": [
    "# AND게이트 퍼셉트론 구현 ver.\n",
    "\n",
    "import numpy as np\n",
    "\n",
    "x = np.array([[-1,0,0],[-1,1,0],[-1,0,1],[-1,1,1]]) # 4x3 행렬\n",
    "w = np.array([[0.3],[0.4],[0.1]]) # 3x1 행렬\n",
    "target = np.array([[0],[0],[0],[1]])\n",
    "\n",
    "def step_function(x):\n",
    "    y = np.array(x > 0)\n",
    "    return y.astype(np.int)\n",
    "\n",
    "# predict 함수는 비교하자면 내적과 같다.\n",
    "# predict 함수에 추가적으로 step_funciton을 적용함.\n",
    "\n",
    "def predict(x,w):\n",
    "    a = np.sum(x*w.T)\n",
    "    return step_function(a)\n",
    "\n",
    "\n",
    "for j in range(3):\n",
    "    for i in range(len(target)):\n",
    "        cost = target[i] - predict(x[i],w)\n",
    "        w = w + np.array([0.05 * x[i] * cost]).T \n",
    "    print(w)"
   ]
  },
  {
   "cell_type": "markdown",
   "metadata": {},
   "source": [
    "## 문제22. 위의 코드가 같은 가중치 값을 2번이상 출력하면 break 되게 코드를 수정하시오."
   ]
  },
  {
   "cell_type": "code",
   "execution_count": 99,
   "metadata": {},
   "outputs": [
    {
     "name": "stdout",
     "output_type": "stream",
     "text": [
      "[[0.4]\n",
      " [0.3]\n",
      " [0.1]]\n"
     ]
    }
   ],
   "source": [
    "# 최종 AND게이트 퍼셉트론 구현 ver.\n",
    "\n",
    "import numpy as np\n",
    "import copy\n",
    "\n",
    "x = np.array([[-1,0,0],[-1,1,0],[-1,0,1],[-1,1,1]]) # 4x3 행렬\n",
    "w = np.array([[0.3],[0.4],[0.1]]) # 3x1 행렬\n",
    "target = np.array([[0],[0],[0],[1]])\n",
    "\n",
    "def step_function(x):\n",
    "    y = np.array(x > 0)\n",
    "    return y.astype(np.int)\n",
    "\n",
    "# predict 함수는 비교하자면 내적과 같다.\n",
    "# predict 함수에 추가적으로 step_funciton을 적용함.\n",
    "\n",
    "def predict(x,w):\n",
    "    a = np.sum(x*w.T)\n",
    "    return step_function(a)\n",
    "\n",
    "\n",
    "\n",
    "while True:\n",
    "    temp1 = copy.deepcopy(w)\n",
    "    for i in range(len(target)):\n",
    "        cost = target[i] - predict(x[i],w)\n",
    "        w = w + np.array([0.05 * x[i] * cost]).T \n",
    "    \n",
    "    temp2 = w\n",
    "    if list(temp1) == list(temp2): # numpy끼리는 == 으로 비교가 불가능해서, list로 타입을 변경해서 비교함\n",
    "        break\n",
    "print(w)"
   ]
  },
  {
   "cell_type": "markdown",
   "metadata": {},
   "source": [
    "## Tip. 분류하는 직선의 방정식을 그래프로 표현하는 방법."
   ]
  },
  {
   "cell_type": "code",
   "execution_count": 6,
   "metadata": {},
   "outputs": [
    {
     "name": "stdout",
     "output_type": "stream",
     "text": [
      "[-2.         -1.91836735 -1.83673469 -1.75510204 -1.67346939 -1.59183673\n",
      " -1.51020408 -1.42857143 -1.34693878 -1.26530612 -1.18367347 -1.10204082\n",
      " -1.02040816 -0.93877551 -0.85714286 -0.7755102  -0.69387755 -0.6122449\n",
      " -0.53061224 -0.44897959 -0.36734694 -0.28571429 -0.20408163 -0.12244898\n",
      " -0.04081633  0.04081633  0.12244898  0.20408163  0.28571429  0.36734694\n",
      "  0.44897959  0.53061224  0.6122449   0.69387755  0.7755102   0.85714286\n",
      "  0.93877551  1.02040816  1.10204082  1.18367347  1.26530612  1.34693878\n",
      "  1.42857143  1.51020408  1.59183673  1.67346939  1.75510204  1.83673469\n",
      "  1.91836735  2.        ]\n"
     ]
    },
    {
     "data": {
      "image/png": "[encoded data removed]",
      "text/plain": [
       "<Figure size 432x288 with 1 Axes>"
      ]
     },
     "metadata": {
      "needs_background": "light"
     },
     "output_type": "display_data"
    }
   ],
   "source": [
    "# -*- coding: utf-8 -*-\n",
    "\"\"\"\n",
    "Created on Tue Dec 17 16:13:08 2019\n",
    "\n",
    "@author: wdp\n",
    "\"\"\"\n",
    "\n",
    "import numpy as np\n",
    "a = [ [-1, 0, 0], [-1, 1, 0], [-1, 0, 1], [-1, 1, 1] ] \n",
    "b = [ [0.3], [0.4], [0.1] ] \n",
    "x = np.array(a)\n",
    "w = np.array(b)\n",
    "target = np.array( [ [0], [0], [0], [1] ] )\n",
    "\n",
    "def step_function(x):\n",
    "    y = np.array(x > 0)\n",
    "    return y.astype(np.int)\n",
    "\n",
    "# predict 함수는 비교하자면 내적과 같다.\n",
    "# predict 함수에 추가적으로 step_funciton을 적용함.\n",
    "\n",
    "def predict(x,w):\n",
    "    a = np.sum(x*w.T)\n",
    "    return step_function(a)\n",
    "\n",
    "\n",
    "\n",
    "while True:\n",
    "    import copy\n",
    "    temp1 = copy.deepcopy(w)\n",
    "    for i in range(len(target)):\n",
    "        cost = target[i] - predict(x[i],w)\n",
    "        w = w + np.array([0.05 * x[i] * cost]).T \n",
    "    \n",
    "    temp2 = w\n",
    "    if list(temp1) == list(temp2): # numpy끼리는 == 으로 비교가 불가능해서, list로 타입을 변경해서 비교함\n",
    "        break\n",
    "        \n",
    "\n",
    "# 분류하는 직선의 방정식 그래프로 그리는 부분\n",
    "import matplotlib.pyplot as plt\n",
    "import numpy as np\n",
    "\n",
    "x = np.linspace(-2,2,50) # -2에서 2까지 50등분해서 numpy행태로 나타내겠다.\n",
    "print(x)\n",
    "\n",
    "y = -(x*w[1]/w[2]) + (w[0]/w[2]) #최종 가중치의 직선의 방정식\n",
    "\n",
    "fig = plt.figure() # 그림그리는 바탕을 fig로 만들겠다.\n",
    "ax = fig.add_subplot(1, 1, 1)  #(2,2,2) 로 바꾸어서 해본다.\n",
    "\n",
    "ax.spines['left'].set_position('zero')\n",
    "ax.spines['bottom'].set_position('zero')\n",
    "ax.spines['right'].set_color('none') # right부분의 선을 없애버림.\n",
    "ax.spines['top'].set_color('none') # top부분의 선을 없애버림.\n",
    "ax.xaxis.set_ticks_position('bottom') # bottom 부분의 눈금을 없앰.\n",
    "ax.yaxis.set_ticks_position('left') # left 부분의 눈금을 없앰.\n",
    "plt.plot(x, y, label='w1')\n",
    "\n",
    "plt.xlim(-2, 2) # x축의 눈금숫자의 시작과 마지막\n",
    "plt.ylim(-2, 2) # y축의 눈금숫자의 시작과 마지막\n",
    "plt.title('Graph of w') # 제목\n",
    "plt.xlabel('x', color='#1C2833') # x축의 라벨 색깔\n",
    "plt.ylabel('y', color='#1C2833') # y축의 라벨 색깔\n",
    "plt.legend(loc='upper left') # 레전드가 위에 왼쪽에 나오게 하라\n",
    "plt.grid() # 격자 모양 출력\n",
    "plt.show() # 결과 보여줘\n"
   ]
  },
  {
   "cell_type": "code",
   "execution_count": 102,
   "metadata": {},
   "outputs": [
    {
     "name": "stdout",
     "output_type": "stream",
     "text": [
      "[-2.         -1.91836735 -1.83673469 -1.75510204 -1.67346939 -1.59183673\n",
      " -1.51020408 -1.42857143 -1.34693878 -1.26530612 -1.18367347 -1.10204082\n",
      " -1.02040816 -0.93877551 -0.85714286 -0.7755102  -0.69387755 -0.6122449\n",
      " -0.53061224 -0.44897959 -0.36734694 -0.28571429 -0.20408163 -0.12244898\n",
      " -0.04081633  0.04081633  0.12244898  0.20408163  0.28571429  0.36734694\n",
      "  0.44897959  0.53061224  0.6122449   0.69387755  0.7755102   0.85714286\n",
      "  0.93877551  1.02040816  1.10204082  1.18367347  1.26530612  1.34693878\n",
      "  1.42857143  1.51020408  1.59183673  1.67346939  1.75510204  1.83673469\n",
      "  1.91836735  2.        ]\n"
     ]
    },
    {
     "data": {
      "image/png": "[encoded data removed]",
      "text/plain": [
       "<Figure size 432x288 with 1 Axes>"
      ]
     },
     "metadata": {
      "needs_background": "light"
     },
     "output_type": "display_data"
    }
   ],
   "source": [
    "# 직선 2개 그려서 비교해보기\n",
    "\n",
    "import numpy as np\n",
    "a = [ [-1, 0, 0], [-1, 1, 0], [-1, 0, 1], [-1, 1, 1] ] \n",
    "b = [ [0.3], [0.4], [0.1] ] \n",
    "b2 = [[0.2], [0.7], [0.3]]\n",
    "\n",
    "x = np.array(a)\n",
    "w = np.array(b)\n",
    "w2 = np.array(b2)\n",
    "\n",
    "def predict(x, w):\n",
    "    a = np.sum(x*w.T)\n",
    "    return step_function(a)\n",
    "\n",
    "def step_function(x):\n",
    "    y = np.array(x>0)\n",
    "    return y.astype(np.int)\n",
    "\n",
    "target = np.array( [ [0], [0], [0], [1] ] )\n",
    "\n",
    "while True:\n",
    "    sum1 = 0\n",
    "    for i in range(4):\n",
    "        cost = target[i] - predict( x[i], w )\n",
    "        if cost != 0:\n",
    "            w = w + np.array([0.05*x[i]*cost]).T\n",
    "        elif cost == 0:\n",
    "            continue\n",
    "        sum1+=cost\n",
    "    if sum1 == 0:\n",
    "        break\n",
    "\n",
    "        \n",
    "# 분류하는 직선의 방정식 그래프로 그리는 부분\n",
    "\n",
    "import matplotlib.pyplot as plt\n",
    "import numpy as np\n",
    "\n",
    "x = np.linspace(-2,2,50) # -2에서 2까지 50등분해서 numpy 형태로 나타냄.\n",
    "print(x)\n",
    "\n",
    "y = -(x*w[1]/w[2]) + (w[0]/w[2]) #최종 가중치의 직선의 방정식\n",
    "y2 = -(x*w2[1]/w2[2]) + (w2[0]/w2[2])\n",
    "\n",
    "fig = plt.figure() # 그림그리는 바탕을 fig로 만들겠다.\n",
    "ax = fig.add_subplot(1, 1, 1)  #(2,2,2) 로 바꾸어서 해본다.\n",
    "ax.spines['left'].set_position('zero')\n",
    "ax.spines['bottom'].set_position('zero')\n",
    "ax.spines['right'].set_color('none') # right 부분의 선을 없애버림\n",
    "ax.spines['top'].set_color('none') # top 부분의 선을 없애버림\n",
    "ax.xaxis.set_ticks_position('bottom') # bottom 부분의 눈금을 없앰.\n",
    "ax.yaxis.set_ticks_position('left') # left 부분의 눈금을 없앰.\n",
    "plt.plot(x, y, label='w1')\n",
    "plt.plot(x, y2, label='w2', color = 'Red')\n",
    "plt.xlim(-2, 2) # x축의 눈금숫자의 시작과 마지막\n",
    "plt.ylim(-2, 2) # y축의 눈금숫자의 시작과 마지막\n",
    "plt.title('Graph of w') # 제목\n",
    "plt.xlabel('x', color='#1C2833') # x축의 라벨 색깔\n",
    "plt.ylabel('y', color='#1C2833') # y축의 라벨 색깔\n",
    "plt.legend(loc='upper left') # 레전드가 위에 왼쪽에 나오게 하라\n",
    "plt.grid() # 격자 모양 출력\n",
    "plt.show() # 결과 보여줘"
   ]
  },
  {
   "cell_type": "markdown",
   "metadata": {},
   "source": [
    "## 문제24. or 게이트를 분류하는 직선 그래프를 그리시오!"
   ]
  },
  {
   "cell_type": "code",
   "execution_count": 101,
   "metadata": {},
   "outputs": [
    {
     "name": "stdout",
     "output_type": "stream",
     "text": [
      "[-2.         -1.91836735 -1.83673469 -1.75510204 -1.67346939 -1.59183673\n",
      " -1.51020408 -1.42857143 -1.34693878 -1.26530612 -1.18367347 -1.10204082\n",
      " -1.02040816 -0.93877551 -0.85714286 -0.7755102  -0.69387755 -0.6122449\n",
      " -0.53061224 -0.44897959 -0.36734694 -0.28571429 -0.20408163 -0.12244898\n",
      " -0.04081633  0.04081633  0.12244898  0.20408163  0.28571429  0.36734694\n",
      "  0.44897959  0.53061224  0.6122449   0.69387755  0.7755102   0.85714286\n",
      "  0.93877551  1.02040816  1.10204082  1.18367347  1.26530612  1.34693878\n",
      "  1.42857143  1.51020408  1.59183673  1.67346939  1.75510204  1.83673469\n",
      "  1.91836735  2.        ]\n"
     ]
    },
    {
     "data": {
      "image/png": "[encoded data removed]",
      "text/plain": [
       "<Figure size 432x288 with 1 Axes>"
      ]
     },
     "metadata": {
      "needs_background": "light"
     },
     "output_type": "display_data"
    }
   ],
   "source": [
    "# 직선 2개 그려서 비교해보기\n",
    "# target 값만 슬그머니 바꾸어 주면됨.\n",
    "\n",
    "import numpy as np\n",
    "a = [ [-1, 0, 0], [-1, 1, 0], [-1, 0, 1], [-1, 1, 1] ] \n",
    "b = [ [0.3], [0.4], [0.1] ] \n",
    "b2 = [[0.2], [0.7], [0.3]]\n",
    "target = np.array( [ [0], [1], [1], [1] ] )\n",
    "\n",
    "x = np.array(a)\n",
    "w = np.array(b)\n",
    "w2 = np.array(b2)\n",
    "\n",
    "def predict(x, w):\n",
    "    a = np.sum( x*w.T)\n",
    "    return step_function(a)\n",
    "\n",
    "def step_function(x):\n",
    "    y = np.array(x>0)\n",
    "    return y.astype(np.int)\n",
    "\n",
    "while True:\n",
    "    sum1 = 0\n",
    "    for i in range(4):\n",
    "        cost = target[i] - predict( x[i], w )\n",
    "        if cost != 0:\n",
    "            w = w + np.array([0.05*x[i]*cost]).T\n",
    "        elif cost == 0:\n",
    "            continue\n",
    "        sum1+=cost\n",
    "    if sum1 == 0:\n",
    "        break\n",
    "\n",
    "        \n",
    "# 분류하는 직선의 방정식 그래프로 그리는 부분\n",
    "import matplotlib.pyplot as plt\n",
    "import numpy as np\n",
    "\n",
    "x = np.linspace(-2,2,50) # -2에서 2까지 50등분 한 값들을 numpy array형태로 나타내줌.\n",
    "print(x)\n",
    "\n",
    "y = -(x*w[1]/w[2]) + (w[0]/w[2]) #최종 가중치의 직선의 방정식\n",
    "y2 = -(x*w2[1]/w2[2]) + (w2[0]/w2[2])\n",
    "\n",
    "\n",
    "fig = plt.figure() # 그림그리는 바탕을 fig로 만들겠다.\n",
    "ax = fig.add_subplot(1, 1, 1)  #(2,2,2) 로 바꾸어서 해본다.\n",
    "ax.spines['left'].set_position('zero')\n",
    "ax.spines['bottom'].set_position('zero')\n",
    "ax.spines['right'].set_color('none') # right 부분의 선을 없애버림\n",
    "ax.spines['top'].set_color('none') # top 부분의 선을 없애버림\n",
    "ax.xaxis.set_ticks_position('bottom') # bottom 부분의 눈금을 없앰.\n",
    "ax.yaxis.set_ticks_position('left') # left 부분의 눈금을 없앰.\n",
    "plt.plot(x, y, label='w1')\n",
    "plt.plot(x, y2, label='w2', color = 'Red')\n",
    "plt.xlim(-2, 2) # x축의 눈금숫자의 시작과 마지막\n",
    "plt.ylim(-2, 2) # y축의 눈금숫자의 시작과 마지막\n",
    "plt.title('Graph of w') # 제목\n",
    "plt.xlabel('x', color='#1C2833') # x축의 라벨 색깔\n",
    "plt.ylabel('y', color='#1C2833') # y축의 라벨 색깔\n",
    "plt.legend(loc='upper left') # 레전드가 위에 왼쪽에 나오게 하라\n",
    "plt.grid() # 격자 모양 출력\n",
    "plt.show() # 결과 보여줘"
   ]
  },
  {
   "cell_type": "markdown",
   "metadata": {},
   "source": [
    "## 문제25. not and(NAND) 게이트를 분류하는 직선 그래프를 그리시오."
   ]
  },
  {
   "cell_type": "code",
   "execution_count": 103,
   "metadata": {
    "scrolled": true
   },
   "outputs": [
    {
     "name": "stdout",
     "output_type": "stream",
     "text": [
      "[-2.         -1.91836735 -1.83673469 -1.75510204 -1.67346939 -1.59183673\n",
      " -1.51020408 -1.42857143 -1.34693878 -1.26530612 -1.18367347 -1.10204082\n",
      " -1.02040816 -0.93877551 -0.85714286 -0.7755102  -0.69387755 -0.6122449\n",
      " -0.53061224 -0.44897959 -0.36734694 -0.28571429 -0.20408163 -0.12244898\n",
      " -0.04081633  0.04081633  0.12244898  0.20408163  0.28571429  0.36734694\n",
      "  0.44897959  0.53061224  0.6122449   0.69387755  0.7755102   0.85714286\n",
      "  0.93877551  1.02040816  1.10204082  1.18367347  1.26530612  1.34693878\n",
      "  1.42857143  1.51020408  1.59183673  1.67346939  1.75510204  1.83673469\n",
      "  1.91836735  2.        ]\n"
     ]
    },
    {
     "data": {
      "image/png": "[encoded data removed]",
      "text/plain": [
       "<Figure size 432x288 with 1 Axes>"
      ]
     },
     "metadata": {
      "needs_background": "light"
     },
     "output_type": "display_data"
    }
   ],
   "source": [
    "# 직선 2개 그려서 비교해보기\n",
    "# target 값만 슬그머니 바꾸어 주면됨.\n",
    "\n",
    "import numpy as np\n",
    "a = [ [-1, 0, 0], [-1, 1, 0], [-1, 0, 1], [-1, 1, 1] ] \n",
    "b = [ [0.3], [0.4], [0.1] ] \n",
    "b2 = [[0.2], [0.7], [0.3]]\n",
    "\n",
    "x = np.array(a)\n",
    "w = np.array(b)\n",
    "w2 = np.array(b2)\n",
    "\n",
    "def predict(x, w):\n",
    "    a = np.sum( x*w.T)\n",
    "    return step_function(a)\n",
    "\n",
    "def step_function(x):\n",
    "    y = np.array(x>0)\n",
    "    return y.astype(np.int)\n",
    "\n",
    "target = np.array( [ [1], [1], [1], [0] ] )\n",
    "\n",
    "while True:\n",
    "    sum1 = 0\n",
    "    for i in range(4):\n",
    "        cost = target[i] - predict( x[i], w )\n",
    "        if cost != 0:\n",
    "            w = w + np.array([0.05*x[i]*cost]).T\n",
    "        elif cost == 0:\n",
    "            continue\n",
    "        sum1+=cost\n",
    "    if sum1 == 0:\n",
    "        break\n",
    "\n",
    "# 분류하는 직선의 방정식 그래프로 그리는 부분\n",
    "import matplotlib.pyplot as plt\n",
    "import numpy as np\n",
    "\n",
    "x = np.linspace(-2,2,50) # 시작점 -2부터 끝점 2까지 50등분해서 나타냄.\n",
    "print(x)\n",
    "\n",
    "y = -(x*w[1]/w[2]) + (w[0]/w[2]) #최종 가중치의 직선의 방정식\n",
    "y2 = -(x*w2[1]/w2[2]) + (w2[0]/w2[2])\n",
    "\n",
    "fig = plt.figure() # 그림그리는 바탕을 fig로 만들겠다.\n",
    "ax = fig.add_subplot(1, 1, 1)  #(2,2,2) 로 바꾸어서 해본다.\n",
    "\n",
    "# Moving spines\n",
    "# x / y 축을 가운데로 옮기는 것\n",
    "ax.spines['left'].set_position('zero')\n",
    "ax.spines['bottom'].set_position('zero')\n",
    "ax.spines['right'].set_color('none') # right 부분의 선을 없애버림\n",
    "ax.spines['top'].set_color('none') # top 부분의 선을 없애버림\n",
    "ax.xaxis.set_ticks_position('bottom') # bottom 부분의 눈금을 없앰.\n",
    "ax.yaxis.set_ticks_position('left') # left 부분의 눈금을 없앰.\n",
    "\n",
    "plt.plot(x, y, label='w1')\n",
    "plt.plot(x, y2, label='w2', color = 'Red')\n",
    "\n",
    "plt.xlim(-2, 2) # x축의 눈금숫자의 시작과 마지막\n",
    "plt.ylim(-2, 2) # y축의 눈금숫자의 시작과 마지막\n",
    "plt.title('Graph of w') # 제목\n",
    "plt.xlabel('x', color='#1C2833') # x축의 라벨 색깔\n",
    "plt.ylabel('y', color='#1C2833') # y축의 라벨 색깔\n",
    "plt.legend(loc='upper left') # 레전드가 위에 왼쪽에 나오게 하라.(왼쪽모서리 사각형)\n",
    "plt.grid() # 격자 모양 출력\n",
    "plt.show() # 결과 보여줘"
   ]
  },
  {
   "cell_type": "markdown",
   "metadata": {},
   "source": [
    "## 문제26. (오늘의 마지막 문제) 카카오 알고리즘 시험문제인 LRU 알고리즘을 스터디 하고\n",
    "## 구현 코드를 올리시오!"
   ]
  }
 ],
 "metadata": {
  "kernelspec": {
   "display_name": "Python 3",
   "language": "python",
   "name": "python3"
  },
  "language_info": {
   "codemirror_mode": {
    "name": "ipython",
    "version": 3
   },
   "file_extension": ".py",
   "mimetype": "text/x-python",
   "name": "python",
   "nbconvert_exporter": "python",
   "pygments_lexer": "ipython3",
   "version": "3.7.4"
  }
 },
 "nbformat": 4,
 "nbformat_minor": 2
}
