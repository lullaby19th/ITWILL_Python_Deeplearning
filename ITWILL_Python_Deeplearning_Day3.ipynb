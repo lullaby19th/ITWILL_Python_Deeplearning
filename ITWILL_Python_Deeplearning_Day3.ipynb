{
 "cells": [
  {
   "cell_type": "markdown",
   "metadata": {},
   "source": [
    "## ■ 3장.신경망\n",
    "\n",
    "### ※ Review\n",
    "\n",
    "### 1장 : 신경망을 구현하기 위해 알아야하는 파이썬 문법\n",
    "    - numpy 사용법\n",
    "    - matplotlib 패키지로 그래프를 그리는 방법\n",
    "\n",
    "### 2장 : 퍼셉트론  \n",
    "\" 신경만안에 뉴런 1개를 컴퓨터로 구현 \"\n",
    "\n",
    "* 퍼셉트론의 종류 2가지\n",
    "    1. 단층 퍼셉트론\n",
    "    2. 다층 퍼셉트론\n",
    "    \n",
    "단층 퍼셉트론의 한계를 다층 퍼셉트론으로 해결했는데 그 한계가 무엇이었는가?\n",
    "\n",
    "\" xor 게이트를 단층 퍼셉트론으로는 구현이 불가능해서 다층 퍼셉트론으로 해결을 했다.\"\n",
    "\n",
    "__최적의 W(가중치)를 알아내는 것이 목표이다!!!__\n",
    "\n",
    "ex) 삼성 디스플레이 모니터에 흠집이 있는지 검사하는 신경망  --> 최적의 W 찾기\n",
    "\n",
    "ex) 알파고 : 강화학습 + 신경망 -> 최적의 W\n",
    "\n",
    "ex) mnist(필기체 데이터) : 신경망을 통하여 필기체를 구분 --> 최적의W\n",
    "\n",
    "ex) 의사들이 쓴 차트 필기체(아산병원) 인식 -> 신경망 -> 최적의 W"
   ]
  },
  {
   "cell_type": "markdown",
   "metadata": {},
   "source": [
    "## ■ 1. 퍼셉트론에서 신경망으로 \n",
    "\n",
    "퍼셉트론 -> 뉴런 1개\n",
    "\n",
    "신경망 -> 뉴런이 여러개\n",
    "\n",
    "### 뉴련의 역할 ?   \n",
    "\n",
    "뉴런의 안의 활성화 함수가 입력값의 총합을 받아서 확률을 출력 합니다. \n",
    "\n",
    "입력값으로 개 이미지를 받았으면 개일 확률이 어떻게 되는지 확률을 출력해준다."
   ]
  },
  {
   "cell_type": "markdown",
   "metadata": {},
   "source": [
    "## ■ 2. 활성화 함수\n",
    "\n",
    "활성화 함수란 ?\n",
    "\n",
    "신경망내에서 신호를 보낼지 말지를 결정하는 함수(계단함수)\n",
    "\n",
    "신경망내에서 신호를 약하게 보낼지 강하게 보낼지를 결정하는 함수(시그모이드 함수, 렐루 함수)\n",
    "\n",
    "1. 계단 함수 : 숫자 0과 1을 리턴하는 함수 (그림 3-6 // x축 입력신호, y축 출력신호)\n",
    "2. 시그모이드 함수 : 숫자 0~1 사이의 실수를 리턴하는 함수 (그림 3-8)\n",
    "3. 렐루 함수 : 입력되는 값이 0보다 크면 그 값을 그대로 출력하고 0 이하이면 0을 리턴하는 함수 (그림3-9)"
   ]
  },
  {
   "cell_type": "markdown",
   "metadata": {},
   "source": [
    "## ■ 시그모이드 함수의 유래\n",
    "\n",
    "왜 우리가 지수함수 미분과 로그함수 미분을 배워야 하는가?\n",
    "\n",
    "시그모이드 함수의 수학식 때문에? (식 3.6)\n",
    "\n",
    "y = 1/1+e^-x (x= k , 0 < y(실수) <1)\n",
    "\n",
    "\n",
    "### 1. 오즈비율 함수\n",
    "\n",
    "    - 실패할 확률대비 성공할 확률을 구하는 함수. (P/1-P)\n",
    "    \n",
    "\n",
    "### 2. 로짓함수  \n",
    "\n",
    "    - 오즈비율 함수에 로그를 사용한 함수 (log(P/1-P))\n",
    "    - 우리가 필요한 건 입력신호에 대한 확률 값이기 때문에 log(P/1-P)값을 확률 값으로 바꾸어줄 필요가 있다.\n",
    "    \n",
    "### 3. 시그모이드 함수   \n",
    "\n",
    "    - 로짓함수를 신경망에서 P(확률)값을 계산하기 편하도록 지수형태로 바꾼 함수\n",
    "    - y = 1/1+e^-x (x= k , 0 < y(실수) <1) [ y가 p인 상황 ]\n",
    "    \n",
    "    \n",
    "(오즈비율함수 -> 로짓함수 - > 시그모이드 함수)"
   ]
  },
  {
   "cell_type": "markdown",
   "metadata": {},
   "source": [
    "## 문제27. 계단함수를 파이썬으로 구현하시오!\n",
    "\n",
    "\" 숫자 0과 1을 리턴하는 함수 \""
   ]
  },
  {
   "cell_type": "code",
   "execution_count": 10,
   "metadata": {},
   "outputs": [
    {
     "name": "stdout",
     "output_type": "stream",
     "text": [
      "[False False  True]\n",
      "[0 0 1]\n"
     ]
    }
   ],
   "source": [
    "# numpy쓰고 만듬\n",
    "\n",
    "import numpy as np\n",
    "def step_function(x_data):\n",
    "    y = x_data > 0  \n",
    "    print(y) # [False False True]\n",
    "    return y.astype(np.int) # astype 은 넘파이 배열의 자료형으로 변환 할 때 사용하는 메소드이다.\n",
    "                            # [False False True] --> [0 0 1]\n",
    "x_data = np.array([-1,0,1])\n",
    "print(step_function(x_data))"
   ]
  },
  {
   "cell_type": "code",
   "execution_count": 6,
   "metadata": {},
   "outputs": [
    {
     "name": "stdout",
     "output_type": "stream",
     "text": [
      "0\n"
     ]
    }
   ],
   "source": [
    "# numpy안쓰고 만든형태(비추)\n",
    "\n",
    "def step_function(x):\n",
    "    if x <= 0:\n",
    "        return 0\n",
    "    else:\n",
    "        return 1\n",
    "\n",
    "print(step_function(-0.2))"
   ]
  },
  {
   "cell_type": "markdown",
   "metadata": {},
   "source": [
    "## 문제28. (점심시간 문제) 위의 step_function와 matplotlib 패키지를 이용해서  \n",
    "## 아래와 같이 계단함수를 시각화 하시오~  "
   ]
  },
  {
   "cell_type": "code",
   "execution_count": 15,
   "metadata": {},
   "outputs": [
    {
     "name": "stdout",
     "output_type": "stream",
     "text": [
      "[False False False False False False False False False False False False\n",
      " False False False False False False False False False False False False\n",
      " False False False False False False False False False False False False\n",
      " False False False False False False False False False False False False\n",
      " False False False  True  True  True  True  True  True  True  True  True\n",
      "  True  True  True  True  True  True  True  True  True  True  True  True\n",
      "  True  True  True  True  True  True  True  True  True  True  True  True\n",
      "  True  True  True  True  True  True  True  True  True  True  True  True\n",
      "  True  True  True  True]\n"
     ]
    },
    {
     "data": {
      "image/png": "[encoded data removed]",
      "text/plain": [
       "<Figure size 432x288 with 1 Axes>"
      ]
     },
     "metadata": {
      "needs_background": "light"
     },
     "output_type": "display_data"
    }
   ],
   "source": [
    "# numpy쓰고 만듬\n",
    "import numpy as np\n",
    "import matplotlib.pyplot as plt\n",
    "\n",
    "def step_function(x_data):\n",
    "    y = x_data > 0  \n",
    "    print(y) # [False False True]\n",
    "    return y.astype(np.int) # astype 은 넘파이 배열의 자료형으로 변환 할 때 사용하는 메소드이다.\n",
    "                            # [False False True] --> [0 0 1]\n",
    "    \n",
    "\n",
    "x = np.arange(-5,5,0.1) # 시작점 -2부터 끝점 2까지 50등분해서 나타냄.\n",
    "y = step_function(x)\n",
    "\n",
    "\n",
    "plt.plot(x,y, color = \"red\") # color는 색깔 / x와 y는 1대1 대응\n",
    "plt.grid\n",
    "\n",
    "plt.show()"
   ]
  },
  {
   "cell_type": "markdown",
   "metadata": {},
   "source": [
    "## ※ 시그모이드 함수"
   ]
  },
  {
   "cell_type": "code",
   "execution_count": null,
   "metadata": {},
   "outputs": [],
   "source": [
    "#numpy로 시그모이드를 표현\n",
    "\n",
    "h(x)  = 1 / 1+np.exp(-x)"
   ]
  },
  {
   "cell_type": "markdown",
   "metadata": {},
   "source": [
    "exp(-x)는 e^-x를 뜻하며, e는 자연상수로 2.7182...의 값을 갖는 실수 입니다. 복잡해보이지만 단순한 '함수'일 뿐입니다.\n",
    "\n",
    "h(1.0) = 0.731..., h(2.0) = 0.880 ... 실수값을 리턴해준다.  \n",
    "신경망에서 활성화함수로 시그모이드 함수를 이용하여 신호를 변환하고, 그 변환된 신호를 다음 뉴런으로 전달합니다."
   ]
  },
  {
   "cell_type": "markdown",
   "metadata": {},
   "source": [
    "## 문제29. 시그모이드 함수를 파이썬으로 구현하시오!"
   ]
  },
  {
   "cell_type": "code",
   "execution_count": 18,
   "metadata": {},
   "outputs": [
    {
     "name": "stdout",
     "output_type": "stream",
     "text": [
      "[0.26894142 0.73105858 0.88079708]\n"
     ]
    }
   ],
   "source": [
    "import numpy as np\n",
    "\n",
    "def sigmoid(x):\n",
    "    return 1/(1+np.exp(-x))\n",
    "\n",
    "x = np.array([-1.0, 1.0, 2.0])\n",
    "print(sigmoid(x))"
   ]
  },
  {
   "cell_type": "markdown",
   "metadata": {},
   "source": [
    "## 문제30. 시그모이드 함수의 그래프를 시각화 하시오!"
   ]
  },
  {
   "cell_type": "code",
   "execution_count": 2,
   "metadata": {},
   "outputs": [
    {
     "data": {
      "image/png": "[encoded data removed]",
      "text/plain": [
       "<Figure size 432x288 with 1 Axes>"
      ]
     },
     "metadata": {
      "needs_background": "light"
     },
     "output_type": "display_data"
    }
   ],
   "source": [
    "import numpy as np\n",
    "import matplotlib.pyplot as plt\n",
    "\n",
    "def sigmoid(x):\n",
    "    return 1/(1+np.exp(-x))\n",
    "\n",
    "x = np.arange(-5,5,0.1)\n",
    "\n",
    "y = sigmoid(x)\n",
    "\n",
    "plt.figure()\n",
    "plt.plot(x,y)\n",
    "plt.ylim(-0.1, 1.1)\n",
    "plt.grid()\n",
    "plt.show()"
   ]
  },
  {
   "cell_type": "markdown",
   "metadata": {},
   "source": [
    "## ※ 시그모이드(sigmoid)란 'S자모양'이라는 뜻입니다."
   ]
  },
  {
   "cell_type": "markdown",
   "metadata": {},
   "source": [
    "## ■ Relu 함수 (Rectified Linear unit)\n",
    "\n",
    "rectified = 정류된\n",
    "\n",
    "정류는 전기회로 쪽 용어로, 예를 들어 반파정류회로는 +/- 가 반복되는 교류에서 (-)흐름을 차단하는 회로입니다.   \n",
    "Relu 함수 그래프(그림 3-9) 처럼 x가 0 이하 일때 차단하여 아무런 값도 출력하지 않는(0을 출력) 것입니다.\n",
    "\n",
    "Relu 함수는 입력이 0을 넘으면 그 입력을 그대로 출력하고 0이하면 0을 출력하는 함수"
   ]
  },
  {
   "cell_type": "markdown",
   "metadata": {},
   "source": [
    "## 예제1. Relu함수를 만드시오!"
   ]
  },
  {
   "cell_type": "code",
   "execution_count": 24,
   "metadata": {},
   "outputs": [
    {
     "name": "stdout",
     "output_type": "stream",
     "text": [
      "0\n",
      "0.3\n"
     ]
    }
   ],
   "source": [
    "import numpy as np\n",
    "\n",
    "def relu(x):\n",
    "    return np.maximum(0,x) # 0과 x값중에 큰 값을 출력해라!\n",
    "print(relu(-2)) # 0\n",
    "print(relu(0.3)) # 0.3"
   ]
  },
  {
   "cell_type": "markdown",
   "metadata": {},
   "source": [
    "## 문제31. Relu 함수를 시각화 하시오."
   ]
  },
  {
   "cell_type": "code",
   "execution_count": 3,
   "metadata": {},
   "outputs": [
    {
     "data": {
      "image/png": "[encoded data removed]",
      "text/plain": [
       "<Figure size 432x288 with 1 Axes>"
      ]
     },
     "metadata": {
      "needs_background": "light"
     },
     "output_type": "display_data"
    }
   ],
   "source": [
    "import numpy as np\n",
    "\n",
    "def relu(x):\n",
    "    return np.maximum(0,x) # 0과 x값중에 큰 값을 출력해라!\n",
    "\n",
    "x = np.arange(-5,5,0.1)\n",
    "y = relu(x)\n",
    "\n",
    "plt.plot(x,y)\n",
    "plt.ylim(-0.1, 5.1)\n",
    "plt.grid()\n",
    "plt.show()"
   ]
  },
  {
   "cell_type": "markdown",
   "metadata": {},
   "source": [
    "## ■ 3. 다차원 배열의 계산\n",
    "\n",
    "다차원 배열도 그 기본은 '숫자의 집합'입니다. 숫자가 한 줄로 늘어선것이나  \n",
    "정사각형으로 늘어 놓은것, 3차원으로 불어나온것이나 N차원으로 나열하는 것을 통틀어 __다차원 배열이라고 합니다.__"
   ]
  },
  {
   "cell_type": "code",
   "execution_count": 6,
   "metadata": {},
   "outputs": [
    {
     "name": "stdout",
     "output_type": "stream",
     "text": [
      "[1 2 3 4]\n",
      "1\n",
      "(4,)\n",
      "4\n"
     ]
    }
   ],
   "source": [
    "# 1차원 배열 만드는 방법\n",
    "\n",
    "import numpy as np\n",
    "\n",
    "a = np.array([1,2,3,4])\n",
    "\n",
    "print(a)\n",
    "print(np.ndim(a)) # 차원확인하는 명령어\n",
    "print(a.shape) # (4, )\n",
    "print(a.shape[0]) # 4"
   ]
  },
  {
   "cell_type": "markdown",
   "metadata": {},
   "source": [
    "## 문제32. 아래의 2차원 배열을 생성하시오"
   ]
  },
  {
   "cell_type": "code",
   "execution_count": 37,
   "metadata": {},
   "outputs": [
    {
     "name": "stdout",
     "output_type": "stream",
     "text": [
      "[[1 2]\n",
      " [3 4]\n",
      " [5 6]]\n",
      "2\n",
      "(3, 2)\n"
     ]
    }
   ],
   "source": [
    "import numpy as np\n",
    "\n",
    "b = np.array([[1,2],[3,4],[5,6]])\n",
    "\n",
    "print(b)\n",
    "print(np.ndim(b)) # 2차원 배열\n",
    "print(b.shape) # (3,2)"
   ]
  },
  {
   "cell_type": "markdown",
   "metadata": {},
   "source": [
    "## ■ 행렬의 내적 (행렬 곱) (그림 3-11)"
   ]
  },
  {
   "cell_type": "code",
   "execution_count": 42,
   "metadata": {},
   "outputs": [
    {
     "name": "stdout",
     "output_type": "stream",
     "text": [
      "[[19 22]\n",
      " [43 50]]\n",
      "[[19 22]\n",
      " [43 50]]\n"
     ]
    }
   ],
   "source": [
    "# array를 통해서 내적 구현\n",
    "\n",
    "import numpy as np\n",
    "\n",
    "a = np.array([[1,2],[3,4]])\n",
    "b = np.array([[5,6],[7,8]])\n",
    "\n",
    "result1 = np.dot(a,b) # a@b 도 가능하다!\n",
    "\n",
    "print(result1)"
   ]
  },
  {
   "cell_type": "markdown",
   "metadata": {},
   "source": [
    "### ※ np.matrix로 구현하면? (참고)"
   ]
  },
  {
   "cell_type": "code",
   "execution_count": 52,
   "metadata": {},
   "outputs": [
    {
     "name": "stdout",
     "output_type": "stream",
     "text": [
      "[[19 22]\n",
      " [43 50]]\n"
     ]
    }
   ],
   "source": [
    "import numpy as np\n",
    "\n",
    "a = np.matrix([[1,2],[3,4]])\n",
    "b = np.matrix([[5,6],[7,8]])\n",
    "\n",
    "print(a*b) # matrix는 곱하기(*)로 표현하면 된다."
   ]
  },
  {
   "cell_type": "markdown",
   "metadata": {},
   "source": [
    "## ※ array와 matrix의 차이?\n",
    "\n",
    "array는 다차원을 나타낼 수 있는데 matrix는 2차원 밖에 안된다."
   ]
  },
  {
   "cell_type": "markdown",
   "metadata": {},
   "source": [
    "## ■ 3층 신경망 구현하기 \n",
    "\n",
    "### 그림 3-15 (꼭 봐두기)"
   ]
  },
  {
   "cell_type": "code",
   "execution_count": 53,
   "metadata": {},
   "outputs": [
    {
     "name": "stdout",
     "output_type": "stream",
     "text": [
      "[ 5 11 17]\n"
     ]
    }
   ],
   "source": [
    "# 0층에서 1층으로 가는 과정\n",
    "import numpy as np\n",
    "\n",
    "x = np.array([1,2])\n",
    "w1 = np.array([[1,3,5],[2,4,6]])\n",
    "k = np.dot(x,w1)\n",
    "\n",
    "print(k)"
   ]
  },
  {
   "cell_type": "markdown",
   "metadata": {},
   "source": [
    "## 문제33. 위의 입력값의 총합이 sigmoid 함수를 통과하면 어떤 결과가 나오는지  \n",
    "## k_prime을 출력하시오!"
   ]
  },
  {
   "cell_type": "code",
   "execution_count": 55,
   "metadata": {},
   "outputs": [
    {
     "name": "stdout",
     "output_type": "stream",
     "text": [
      "[0.99330715 0.9999833  0.99999996]\n",
      "<class 'numpy.ndarray'>\n"
     ]
    }
   ],
   "source": [
    "# 입력층(0층)  -> 은닉1층(1층)\n",
    "import numpy as np\n",
    "\n",
    "def sigmoid(x):\n",
    "    return 1/(1+np.exp(-x))\n",
    "\n",
    "# 입력층 (0층)\n",
    "x = np.array([1,2])\n",
    "\n",
    "# 은닉1층 (1층)\n",
    "w1 = np.array([[1,3,5],[2,4,6]])\n",
    "k = np.dot(x,w1) # 가중치들의 곱의 합을 내적으로 표현함. (중요)\n",
    "\n",
    "k_prime = sigmoid(k) # 시그모이드 적용\n",
    "print(k_prime)\n",
    "print(type(k_prime))"
   ]
  },
  {
   "cell_type": "code",
   "execution_count": 59,
   "metadata": {},
   "outputs": [
    {
     "name": "stdout",
     "output_type": "stream",
     "text": [
      "[1. 1.]\n"
     ]
    }
   ],
   "source": [
    "# 입력층(0층)  -> 은닉1층(1층) -> 은닉2층(2층)\n",
    "# 그림보고 이해 잘해두기 !\n",
    "\n",
    "import numpy as np\n",
    "\n",
    "def sigmoid(x):\n",
    "    return 1/(1+np.exp(-x))\n",
    "\n",
    "# 입력층 (0층)\n",
    "x = np.array([1,2])\n",
    "\n",
    "# 은닉1층 (1층)\n",
    "w1 = np.array([[1,3,5],[2,4,6]])\n",
    "k = np.dot(x,w1) # 가중치들의 곱의 합을 내적으로 표현함. (중요)\n",
    "\n",
    "k_prime = sigmoid(k)\n",
    "\n",
    "\n",
    "# 은닉2층 (2층)\n",
    "w2 = np.array([[6,7],[8,9],[10,11]]) \n",
    "m = np.dot(k_prime,w2) # 가중치들의 곱의 합을 내적으로 표현함.\n",
    "\n",
    "m_prime = sigmoid(m) # 시그모이드 적용\n",
    "\n",
    "print(m_prime)"
   ]
  },
  {
   "cell_type": "code",
   "execution_count": 61,
   "metadata": {},
   "outputs": [
    {
     "name": "stdout",
     "output_type": "stream",
     "text": [
      "[ 8. 10.]\n"
     ]
    }
   ],
   "source": [
    "# 입력층(0층)  -> 은닉1층(1층) -> 은닉2층(2층) -> 출력층(3층)\n",
    "# 그림보고 이해 잘해두기 !\n",
    "\n",
    "import numpy as np\n",
    "\n",
    "def sigmoid(x):\n",
    "    return 1/(1+np.exp(-x))\n",
    "\n",
    "# 입력층 (0층)\n",
    "x = np.array([1,2])\n",
    "\n",
    "# 은닉1층 (1층)\n",
    "w1 = np.array([[1,3,5],[2,4,6]])\n",
    "k = np.dot(x,w1) # 가중치들의 곱의 합을 내적으로 표현함. (중요)\n",
    "\n",
    "k_prime = sigmoid(k)\n",
    "\n",
    "\n",
    "# 은닉2층 (2층)\n",
    "w2 = np.array([[6,7],[8,9],[10,11]]) \n",
    "m = np.dot(k_prime,w2) # 가중치들의 곱의 합을 내적으로 표현함.\n",
    "\n",
    "m_prime = sigmoid(m) # 시그모이드 적용\n",
    "\n",
    "# 출력층 (3층) \n",
    "# softmax 함수 적용 예정 (sigmoid 아님)\n",
    "\n",
    "w3 = np.array([[3,4],[5,6]])\n",
    "o = np.dot(m_prime,w3)\n",
    "print(o)"
   ]
  },
  {
   "cell_type": "markdown",
   "metadata": {},
   "source": [
    "## ■ 5. 출력층 설계하기\n",
    "\n",
    "\" 출력층의 함수는 그동안 흘러왔던 확률들의 숫자를 취합해서 결론을 내줘야하는 함수 \"\n",
    "\n",
    "신경망으로 구현하고자 하는 문제가 \n",
    "\n",
    "1. 회귀 : 항등함수 -> 입력값을 받아서 그대로 출력하는 함수\n",
    "2. 분류 : Softmax 함수 -> 입력값을 받아서 확률 벡터를 출력하는 함수 (식 3.10 참고)\n",
    "\n",
    "softmax함수\n",
    "\n",
    "ak = 입력신호(k는 k번째)  \n",
    "exp = e^x를 뜻하는 지수함수"
   ]
  },
  {
   "cell_type": "markdown",
   "metadata": {},
   "source": [
    "## ■ 소프트 맥스 함수 수학식을 컴퓨터 코드로 구현할 때 주의사항!\n",
    "\n",
    "식 3.10 수학식을 파이썬으로 그대로 만들면 에러가 나서 구현이 안된다.    \n",
    "왜냐하면 지수함수는 쉽게 아주 큰 값을 출력하게 때문에 컴퓨터는 큰 값이 출력이 되면 overflow가 출력되며 에러가 난다.  \n",
    "__식 3.10__ 수학식을 __식 3.11__로 다시 전개해주어야 한다.    \n",
    "\n",
    "소프트 맥스 함수는 지수함수를 사용하는데 이 지수함수라는 것이 쉽게 아주 큰 값을 출력한다.  \n",
    "\n",
    "e( 스위스의 수학자 오일러가 발견한 무리수 ) 의 10승은 20,000이 넘고 e의 100승은 숫자가 40개가 넘고   \n",
    "e의 1000승은 무한대를 뜻하는 inf가 출력되어 돌아오므로 컴퓨터로 계산할 수가 없다."
   ]
  },
  {
   "cell_type": "code",
   "execution_count": 63,
   "metadata": {},
   "outputs": [
    {
     "name": "stdout",
     "output_type": "stream",
     "text": [
      "2.718281828459045\n",
      "inf\n"
     ]
    }
   ],
   "source": [
    "# 예\n",
    "\n",
    "import numpy as np\n",
    "\n",
    "print(np.exp(1))\n",
    "print(np.exp(800))"
   ]
  },
  {
   "cell_type": "markdown",
   "metadata": {},
   "source": [
    "### ■ 해결하는 코드"
   ]
  },
  {
   "cell_type": "code",
   "execution_count": 64,
   "metadata": {},
   "outputs": [
    {
     "name": "stdout",
     "output_type": "stream",
     "text": [
      "[inf inf inf]\n"
     ]
    }
   ],
   "source": [
    "import numpy as np\n",
    "a = np.array([1010, 1000, 990])\n",
    "print(np.exp(a)) # [inf inf inf] "
   ]
  },
  {
   "cell_type": "markdown",
   "metadata": {},
   "source": [
    "이를 해결하기 위해서,  \n",
    "__입력신호중에 최대값__을 이용해서 입력신호들을 입력신호중의 최대값으로 각각 빼준다."
   ]
  },
  {
   "cell_type": "code",
   "execution_count": 67,
   "metadata": {},
   "outputs": [
    {
     "name": "stdout",
     "output_type": "stream",
     "text": [
      "[  0 -10 -20]\n",
      "[1.00000000e+00 4.53999298e-05 2.06115362e-09]\n"
     ]
    }
   ],
   "source": [
    "import numpy as np\n",
    "a = np.array([1010, 1000, 990])\n",
    "C = np.max(a)\n",
    "\n",
    "print(a - C) # [ 0 -10 20]\n",
    "minus = a - C\n",
    "\n",
    "print(np.exp(minus))"
   ]
  },
  {
   "cell_type": "markdown",
   "metadata": {},
   "source": [
    "## ■ 위의 식을 이용해서 소프트 맥스 함수 구현하기 (식 3.11)"
   ]
  },
  {
   "cell_type": "code",
   "execution_count": 68,
   "metadata": {},
   "outputs": [
    {
     "name": "stdout",
     "output_type": "stream",
     "text": [
      "[1.00000000e+00 4.53999298e-05 2.06115362e-09]\n"
     ]
    }
   ],
   "source": [
    "import numpy as np\n",
    "\n",
    "a = np.array([1010, 1000, 990])\n",
    "\n",
    "def softmax(a):\n",
    "    C = np.max(a)\n",
    "    minus = a - C # + C_prime을 (-C)로 처리\n",
    "    exp_a = np.exp(minus) # 마지막식 분자\n",
    "    sum_exp_a = np.sum(exp_a) # 마지막식 분모\n",
    "    y = exp_a / sum_exp_a # numpy broadcast 기능으로 계산이 가능\n",
    "    \n",
    "    return y\n",
    "\n",
    "print(softmax(a))"
   ]
  },
  {
   "cell_type": "markdown",
   "metadata": {},
   "source": [
    "## 확률로 표시할 수 있도록 분모식을 구현하면?"
   ]
  },
  {
   "cell_type": "code",
   "execution_count": 70,
   "metadata": {},
   "outputs": [
    {
     "name": "stdout",
     "output_type": "stream",
     "text": [
      "[9.99954600e-01 4.53978686e-05 2.06106005e-09]\n",
      "1.0\n"
     ]
    }
   ],
   "source": [
    "import numpy as np\n",
    "\n",
    "a = np.array([1010, 1000, 990])\n",
    "\n",
    "def softmax(a):\n",
    "    C = np.max(a)\n",
    "    minus = a - C # + C_prime을 (-C)로 처리\n",
    "    exp_a = np.exp(minus) # 마지막식 분자\n",
    "    sum_exp_a = np.sum(exp_a) # 마지막식 분모\n",
    "    y = exp_a / sum_exp_a # numpy broadcast 기능으로 계산이 가능\n",
    "    \n",
    "    return y\n",
    "\n",
    "print(softmax(a)) # 결과값은 확률로 나타남\n",
    "print(np.sum(softmax(a))) # 요소들의 총합은 무조건 1이 된다."
   ]
  },
  {
   "cell_type": "markdown",
   "metadata": {},
   "source": [
    "## 문제34. 방금 softmax 함수를 통과한 결과인 확률벡터에서 가장 큰 값만 1로 출력하고 나머지는 0으로 출력되게 하시오!"
   ]
  },
  {
   "cell_type": "code",
   "execution_count": 7,
   "metadata": {},
   "outputs": [
    {
     "name": "stdout",
     "output_type": "stream",
     "text": [
      "[9.99954600e-01 4.53978686e-05 2.06106005e-09]\n",
      "1.0\n",
      "[1 0 0]\n"
     ]
    }
   ],
   "source": [
    "import numpy as np\n",
    "\n",
    "a = np.array([1010, 1000, 990])\n",
    "\n",
    "def softmax(a):\n",
    "    C = np.max(a)\n",
    "    minus = a - C # + C_prime을 (-C)로 처리\n",
    "    exp_a = np.exp(minus) # 마지막식 분자\n",
    "    sum_exp_a = np.sum(exp_a) # 마지막식 분모\n",
    "    y = exp_a / sum_exp_a # numpy broadcast 기능으로 계산이 가능\n",
    "    \n",
    "    return y\n",
    "\n",
    "print(softmax(a)) # 결과값은 확률로 나타남\n",
    "print(np.sum(softmax(a))) # 요소들의 총합은 무조건 1이 된다.\n",
    "\n",
    "x = softmax(a)\n",
    "x2 = (x==max(x)) # [True, False, False]\n",
    "x2 = x2.astype(np.int)\n",
    "print(x2)"
   ]
  },
  {
   "cell_type": "markdown",
   "metadata": {},
   "source": [
    "## 문제35. 3층 신경망에 출력층을 소프트맥스 함수로 구현하여 확률벡터가 출력되게 완성 시키시오!"
   ]
  },
  {
   "cell_type": "code",
   "execution_count": 76,
   "metadata": {},
   "outputs": [
    {
     "name": "stdout",
     "output_type": "stream",
     "text": [
      "[0.11920292 0.88079708]\n",
      "1.0\n"
     ]
    }
   ],
   "source": [
    "# 입력층(0층)  -> 은닉1층(1층) -> 은닉2층(2층) -> 출력층(3층)\n",
    "# 그림보고 이해 잘해두기 !\n",
    "# 최종 완성본!\n",
    "\n",
    "import numpy as np\n",
    "\n",
    "def sigmoid(x):\n",
    "    return 1/(1+np.exp(-x))\n",
    "\n",
    "def softmax(a):\n",
    "    C = np.max(a)\n",
    "    minus = a - C # + C_prime을 (-C)로 처리\n",
    "    exp_a = np.exp(minus) # 마지막식 분자\n",
    "    sum_exp_a = np.sum(exp_a) # 마지막식 분모\n",
    "    y = exp_a / sum_exp_a # numpy broadcast 기능으로 계산이 가능\n",
    "    \n",
    "    return y\n",
    "\n",
    "# 입력층 (0층)\n",
    "x = np.array([1,2])\n",
    "\n",
    "# 은닉1층 (1층)\n",
    "w1 = np.array([[1,3,5],[2,4,6]])\n",
    "k = np.dot(x,w1) # 가중치들의 곱의 합을 내적으로 표현함. (중요)\n",
    "\n",
    "k_prime = sigmoid(k)\n",
    "\n",
    "\n",
    "# 은닉2층 (2층)\n",
    "w2 = np.array([[6,7],[8,9],[10,11]]) \n",
    "m = np.dot(k_prime,w2) # 가중치들의 곱의 합을 내적으로 표현함.\n",
    "\n",
    "m_prime = sigmoid(m) # 시그모이드 적용\n",
    "\n",
    "# 출력층 (3층) \n",
    "# softmax 함수 적용 예정 (sigmoid 아님)\n",
    "\n",
    "w3 = np.array([[3,4],[5,6]])\n",
    "o = np.dot(m_prime,w3)\n",
    "\n",
    "o_prime = softmax(o)\n",
    "\n",
    "print(o_prime)\n",
    "print(np.sum(o_prime))"
   ]
  }
 ],
 "metadata": {
  "kernelspec": {
   "display_name": "Python 3",
   "language": "python",
   "name": "python3"
  },
  "language_info": {
   "codemirror_mode": {
    "name": "ipython",
    "version": 3
   },
   "file_extension": ".py",
   "mimetype": "text/x-python",
   "name": "python",
   "nbconvert_exporter": "python",
   "pygments_lexer": "ipython3",
   "version": "3.7.4"
  }
 },
 "nbformat": 4,
 "nbformat_minor": 2
}
