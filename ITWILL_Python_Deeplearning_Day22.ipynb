{
 "cells": [
  {
   "cell_type": "markdown",
   "metadata": {},
   "source": [
    "## ■ 리눅스 환경구성\n",
    "\n",
    "putty 프로그램을 다운로드 받으세요~"
   ]
  },
  {
   "cell_type": "markdown",
   "metadata": {},
   "source": [
    "## ■ 1. 리눅스 환경구성을 위해 virtualBox를 설치하세요~\n",
    "\n",
    "\n",
    "### VirtualBox-6.1.0-135406-Win.exe --> 윈도우에 가상환경을 만들게 해주는 프로그램\n",
    "\n",
    "1. vm ware 프로그램\n",
    "2. Oracle virtual box 프로그램\n",
    "\n",
    "\n",
    "### 11gWS2.ova\n",
    "\n",
    "오라클 리눅스 os 파일  \n",
    "이 안에는 oracle database가 이미 설치되어있다.  \n",
    "python도 설치 되어있음.  \n",
    "\n",
    "### 리눅스 서버를 시작시키고 로그인 창이 나오면\n",
    "\n",
    "유저이름 : oracle  \n",
    "패스워드 : oracle  \n",
    "\n",
    "### 루트(root) 최상위 권한자로 로그인하는 방법\n",
    "\n",
    "$ su -   \n",
    "패스워드 : oracle\n",
    "\n",
    "whoami --> root\n",
    "    \n",
    "### 이 서버의 아이피 주소를 확인하는 방법\n",
    "\n",
    "ifconfig  \n",
    "eth1 inet addr : 192.168.56.104\n",
    "\n",
    "### putty 프로그램을 이용해서 192.169.56.104 의 주소를 가지고 있는 서버에 접속을 한다.\n",
    "\n",
    "putty.exe를 실행한다."
   ]
  },
  {
   "cell_type": "markdown",
   "metadata": {},
   "source": [
    "## 점심시간 문제. \n",
    "## 리눅스 서버에 python 으로 아래와 같이 접속을 해서 1+2=3 이 되는것을 출력하시오~"
   ]
  },
  {
   "cell_type": "markdown",
   "metadata": {},
   "source": [
    "## ■ 리눅스 수업 목차\n",
    "\n",
    "1. 리눅스 기본 명령어\n",
    "2. vi 편집기 명령어\n",
    "3. 권한 관리\n",
    "4. 디스크 관리\n",
    "5. 프로세서 관리\n",
    "6. 유저생성 및 관리\n",
    "7. 쉘 스크립트 작성법\n",
    "8. 구글 gpu 서버의 리눅스"
   ]
  },
  {
   "cell_type": "markdown",
   "metadata": {},
   "source": [
    "## ■ 1. 리눅스 기본 명령어\n",
    "\n",
    "### ● cd 명령어\n",
    "\n",
    "__\" change directory 명령어로 디렉토리를 이동하는 명령어 \"__\n",
    "\n",
    "예제 : $ pwd <-- 현재 내가 있는 디렉토리 확인\n",
    "\n",
    "(pwe = print working directory)\n",
    "\n",
    "\n",
    "예제 : $ ls <-- 현재 디렉토리에 있는 폴더와 파일을 확인.\n",
    "ls <-- list의 약자"
   ]
  },
  {
   "cell_type": "markdown",
   "metadata": {},
   "source": [
    "## 예제1. 다시 바로 뒤의 상위 디렉토리로 이동하시오~\n",
    "\n",
    "$ cd .. (바로 뒤의 상위 디렉토리로 이동)\n",
    "\n",
    "$ pwd(현재 디렉토리 확인)\n",
    "\n",
    "[orcl:~] $ 루트 디렉토리\n",
    "\n",
    "__파이썬 빠져나가기 = ctrl + d__ (명령어 중에 누르면 명령어 취소, 그냥 누르면 꺼짐)"
   ]
  },
  {
   "cell_type": "markdown",
   "metadata": {},
   "source": [
    "## 예제2. /home/oracle 밑으로 \n",
    "\n",
    "cd /home/oracle.\n",
    "\n",
    "$ pwd로 현재 디렉토리 확인"
   ]
  },
  {
   "cell_type": "markdown",
   "metadata": {},
   "source": [
    "## ※ 리눅스의 경로는 크게 2가지 경로가 있다.\n",
    "\n",
    "\n",
    "1. 절대경로 : cd 내가  가고자하는 정확한 위치\n",
    "__예:) $ cd /home/oralce__\n",
    "\n",
    "2. 상대경로 : 나의 현재위치를 상대로 상위 디렉토리로 이동하겠다\n",
    "\n",
    "3. cd enter : 가장 위의 디렉토리로 이동."
   ]
  },
  {
   "cell_type": "markdown",
   "metadata": {},
   "source": [
    "## 자기 자신을 홈디렉토리로 이동하는 방법"
   ]
  },
  {
   "cell_type": "code",
   "execution_count": null,
   "metadata": {},
   "outputs": [],
   "source": [
    "$ whoami <--- 접속한 유저가 누구인지 확인    \n",
    "$ id      <-- 접속한 유저가 누기인지 확인    \n",
    "$ cd  <-- 가장 상위 디렉토리로 이동    \n",
    "$ pwd  <-- 현재 디렉토리로 이동  "
   ]
  },
  {
   "cell_type": "markdown",
   "metadata": {},
   "source": [
    "## ■ 2. touch 명령어\n",
    "\n",
    "\" 파일의 용량이 0인 파일을 생산한는 명령어 \""
   ]
  },
  {
   "cell_type": "code",
   "execution_count": null,
   "metadata": {},
   "outputs": [],
   "source": [
    "# $ touch al.txt\n",
    "  $ ls\n",
    "  $ ls-1 a.txt <--- a1.txt 파일의 용량을 확인."
   ]
  },
  {
   "cell_type": "markdown",
   "metadata": {},
   "source": [
    "## 예제1. 아래의 파일을 크기를 0으로 해서 생성하시오!"
   ]
  },
  {
   "cell_type": "markdown",
   "metadata": {},
   "source": [
    "$ touch a.txt b.txt d.txt f.txt"
   ]
  },
  {
   "cell_type": "markdown",
   "metadata": {},
   "source": [
    "## 예제2. 확장자가 .txt인 파일들만 보여달라.\n",
    "\n",
    "$ ls *.txt\n",
    "\n",
    "__*뜻: 이자리에 뭐가 와도 관계가없다.__"
   ]
  },
  {
   "cell_type": "markdown",
   "metadata": {},
   "source": [
    "## ■ 3. mkdir 명령어\n",
    "\n",
    "__\" 디렉토리를 만드는 명령어 \"__\n",
    "\n",
    "$ mkdir gpu_data (gpu_data) 라는 폴더로 바꿔줌(폴더 생성)    \n",
    "\n",
    "$ ls     "
   ]
  },
  {
   "cell_type": "markdown",
   "metadata": {},
   "source": [
    "### kaggle_data 라는 폴더(디렉토리)를 생성하시오"
   ]
  },
  {
   "cell_type": "markdown",
   "metadata": {},
   "source": [
    "$ mkdir kaggle data"
   ]
  },
  {
   "cell_type": "markdown",
   "metadata": {},
   "source": [
    "## ■ 4. rm명령어\n",
    "\n",
    "__\" 파일이나 디렉토리를 삭제하는 명령어 \"__ \n",
    "\n",
    "※ 주의사항 !!\n",
    "\n",
    "리눅스는 휴지통이 없기 때문에 삭제할 때 주의하여야 한다.  \n",
    "백업이 없으면 복구가 불가능 함.   "
   ]
  },
  {
   "cell_type": "markdown",
   "metadata": {},
   "source": [
    " $ touch bbb.txt  \n",
    " \n",
    " $ ls -1 bbb.txt  \n",
    " \n",
    " $ rm bbb.txt  \n",
    " \n",
    " $ ls -1 bbb.txt  "
   ]
  },
  {
   "cell_type": "markdown",
   "metadata": {},
   "source": [
    "## 예제1. 집(/home/oracle)에 있는 확장자 .txt 파일들을 전부 삭제하시오."
   ]
  },
  {
   "cell_type": "markdown",
   "metadata": {},
   "source": [
    "### ※ rm -rf * \n",
    "\n",
    "이 명령어는 현재 디렉토리에 있는 모든 파일과 디렉토리를 전부 다 삭제하겠다.(함부로는 쓰지 말것)\n",
    "\n",
    "-r 옵션 : 현재 디렉토리 밑에 있는 모든 파일과 디렉토리를 다 삭제하겠다.  \n",
    "-f 옵션 : 삭제할 때 원래는 삭제할까요? 라고 물어보는데 물어보지 않고 그냥 삭제함.  \n",
    "\n",
    "__Tip. ctrl + c -> 실행취소__"
   ]
  },
  {
   "cell_type": "markdown",
   "metadata": {},
   "source": [
    "## ■ 5. uname 명령어\n",
    "\n",
    "__\" 어떤 리눅스를 사용하고 있는지 확인하는 명령어 \"__ \n",
    "\n",
    "__예 :__ $ unmae -an (oracle 리눅스)\n",
    "\n",
    "sun 리눅스 회사 <-- 오라클이 인수"
   ]
  },
  {
   "cell_type": "markdown",
   "metadata": {},
   "source": [
    "## ■ 6. rmdir 명령어(폴더 날리는 명령어)\n",
    "\n",
    "__\" 디렉토리를 삭제하는 명령어 \"__ "
   ]
  },
  {
   "cell_type": "code",
   "execution_count": null,
   "metadata": {},
   "outputs": [],
   "source": [
    "$ mkdir ddd\n",
    "$ ls\n",
    "$ rmdir ddd"
   ]
  },
  {
   "cell_type": "markdown",
   "metadata": {},
   "source": [
    "## 예제1. 자기 홈 디렉토리에 test9라는 디렉토리를 만들고 test9디렉토리로 이동해서 test10 디렉토리를 만드시오"
   ]
  },
  {
   "cell_type": "code",
   "execution_count": null,
   "metadata": {},
   "outputs": [],
   "source": [
    "$ mkdir test9\n",
    "$ cd test9\n",
    "$ mkdir test10"
   ]
  },
  {
   "cell_type": "markdown",
   "metadata": {},
   "source": [
    "## 예제2. 다시 집으로 가서 현재 디렉토리에서 test20을 만들고 test20 밑에 test21 디렉토리를 생성하시오!"
   ]
  },
  {
   "cell_type": "code",
   "execution_count": null,
   "metadata": {},
   "outputs": [],
   "source": [
    "$ cd\n",
    "$ mkdir -p ./test20/test21 \n",
    "\n",
    "# 한번에 만들 때는 -p라고 써준다.\n",
    "# (.은 현재 디렉토리를 지칭한다.)"
   ]
  },
  {
   "cell_type": "markdown",
   "metadata": {},
   "source": [
    "## ■ 7. alias 명령어\n",
    "\n",
    "__\" 자주 수행하는 명령어들을 쉽게 사용할 수 있도록 설정하는 명령어 \"__"
   ]
  },
  {
   "cell_type": "markdown",
   "metadata": {},
   "source": [
    "## 예제 : 리눅스 환경에서 오라클에 접속하는 방법"
   ]
  },
  {
   "cell_type": "code",
   "execution_count": null,
   "metadata": {},
   "outputs": [],
   "source": [
    "$ sqlplus sys/oracle_4U as sysdba # sys -> 최상위 권위자 // sysdba : dba 권환으로 들어감."
   ]
  },
  {
   "cell_type": "markdown",
   "metadata": {},
   "source": [
    "- scott 계정의 lock을 해제한다.\n",
    "\n",
    "SQL> alter user scott  \n",
    "account unlock;  \n",
    "\n",
    "- scott의 패스워드를 tiger로 변경한다.\n",
    "\n",
    "SQL> alter user scott  \n",
    "identified by tiger;  \n",
    "\n",
    "- 다시 scott로 접속하기.  \n",
    "\n",
    "SQL> connect scott/tiger\n",
    "\n",
    "- 유저 확인  \n",
    "SQL> show user"
   ]
  },
  {
   "cell_type": "markdown",
   "metadata": {},
   "source": [
    "## 예제1. 이름과 월급을 조회하시오!"
   ]
  },
  {
   "cell_type": "markdown",
   "metadata": {},
   "source": [
    "SQL>  \n",
    "select ename, sal from emp;  \n",
    "\n",
    "(현재 리눅스 서버에 있는 emp를 가져옴)"
   ]
  },
  {
   "cell_type": "markdown",
   "metadata": {},
   "source": [
    "## 예제2. 오라클을 빠져 나오시오!\n",
    "\n",
    "### exit;"
   ]
  },
  {
   "cell_type": "markdown",
   "metadata": {},
   "source": [
    "## 예제3. 오라클의 scott 유저로 접속하시오!"
   ]
  },
  {
   "cell_type": "markdown",
   "metadata": {},
   "source": [
    "### sqlplus scott/tiger"
   ]
  },
  {
   "cell_type": "code",
   "execution_count": null,
   "metadata": {},
   "outputs": [],
   "source": [
    "# alias 만들기!!\n",
    "$ alias s='sqlplus scott/tiger'\n",
    "$ s"
   ]
  },
  {
   "cell_type": "markdown",
   "metadata": {},
   "source": [
    "## 예제4. 파이썬에 접속할 때 p만 쓰고 엔터쳐도 접속되게 하시오!"
   ]
  },
  {
   "cell_type": "code",
   "execution_count": null,
   "metadata": {},
   "outputs": [],
   "source": [
    "$ alias p = 'python'\n",
    "$ p"
   ]
  },
  {
   "cell_type": "markdown",
   "metadata": {},
   "source": [
    "## 예제5. 현재 설정되어있는 alias가 무엇무엇이 있는지 확인하는 명령어는 무엇인가요?"
   ]
  },
  {
   "cell_type": "code",
   "execution_count": null,
   "metadata": {},
   "outputs": [],
   "source": [
    "$ alias"
   ]
  },
  {
   "cell_type": "markdown",
   "metadata": {},
   "source": [
    "## 예제6. alias p를 지우시오!"
   ]
  },
  {
   "cell_type": "code",
   "execution_count": null,
   "metadata": {},
   "outputs": [],
   "source": [
    "$ unalias p\n",
    "\n",
    "$ alias #(확인)"
   ]
  },
  {
   "cell_type": "markdown",
   "metadata": {},
   "source": [
    "## ■ 8. cat 명령어\n",
    "\n",
    "\" 파일의 내용을 화면에 출력하는 명령어 \" \n",
    "\n",
    "예제 : $ cat 파일명.txt"
   ]
  },
  {
   "cell_type": "markdown",
   "metadata": {},
   "source": [
    "## 예제1. emp.txt를 홈 디렉토리에 생성하시오!"
   ]
  },
  {
   "cell_type": "markdown",
   "metadata": {},
   "source": [
    "1. emp.txt의 내용 복사  \n",
    "2. putty 창에서 vi emp.txt  \n",
    "3. 키보드 i 버튼한번   \n",
    "4. esc 여러번 누르기  \n",
    "5. 붙여넣기 (마우스 오른쪽 클릭)\n",
    "6. shift :   \n",
    "7. wq!(저장하고 닫기) or ZZ(저장하고 닫기)\n",
    "8. $ cat emp.txt(한꺼번에 확인하기)\n",
    "\n",
    "\n",
    "9. $ more emp.txt(부분부분 확인하기)   \n",
    "__(space bar 누르면 밑으로 내려감 // b 누르면 위로 올라감)__   \n",
    "__(나가기 -> q)__  "
   ]
  },
  {
   "cell_type": "markdown",
   "metadata": {},
   "source": [
    "## ■ 9. redirection 명령어\n",
    "\n",
    "\" 화면에 출력되는 결과를 파일로 저장하는 명령어 \" "
   ]
  },
  {
   "cell_type": "code",
   "execution_count": null,
   "metadata": {},
   "outputs": [],
   "source": [
    "# 예제:\n",
    "\n",
    "$ cat emp.txt >> emp50.txt\n",
    "\n",
    "# >> redirection을 의미\n",
    "# 지금 보고 있는 emp.txt의 화면의 결과를 emp50.txt로 생성해라는 의미\n",
    "\n",
    "# 확인 \n",
    "# ls emp50.txt\n",
    "# $ cat emp50.txt"
   ]
  },
  {
   "cell_type": "markdown",
   "metadata": {},
   "source": [
    "## 예제1. ls -l *.txt 로 나온 결과를 all.txt 이름으로 저장하시오!"
   ]
  },
  {
   "cell_type": "code",
   "execution_count": null,
   "metadata": {},
   "outputs": [],
   "source": [
    "$ ls -l *.txt >> all.txt"
   ]
  },
  {
   "cell_type": "markdown",
   "metadata": {},
   "source": [
    "### ※ 설명\n",
    "\n",
    "'>>' : 업으면 파일을 생성하고 있으면 기존 파일 뒤에 덧붙이겠다.  \n",
    "'>' : 파일을 생성하겠다. 있으면 그냥 덮어 쓰겠다.   "
   ]
  },
  {
   "cell_type": "markdown",
   "metadata": {},
   "source": [
    "## ■ 10. head 명령어\n",
    "\n",
    "\" 문서의 처음 몇줄을 화면에 출력하는 명령어 \""
   ]
  },
  {
   "cell_type": "code",
   "execution_count": null,
   "metadata": {},
   "outputs": [],
   "source": [
    "# 예제:\n",
    "\n",
    "$ head -출력줄수 파일명\n",
    "$ head -20 winter.txt\n",
    "\n",
    "# winter.txt 위의 20줄을 확인할 수 있다."
   ]
  },
  {
   "cell_type": "markdown",
   "metadata": {},
   "source": [
    "## 예제1. 겨울왕국 대본의 위의 100줄까지의 내용을 winter_head.txt 로 저장하시오!"
   ]
  },
  {
   "cell_type": "code",
   "execution_count": null,
   "metadata": {},
   "outputs": [],
   "source": [
    "$ head -100 winter.txt >> winter_head.txt"
   ]
  },
  {
   "cell_type": "markdown",
   "metadata": {},
   "source": [
    "## 오늘의 마지막 문제. 구글 gpu 서버의 리눅스 환경에 최대한 접속해볼수있도록"
   ]
  }
 ],
 "metadata": {
  "kernelspec": {
   "display_name": "Python 3",
   "language": "python",
   "name": "python3"
  },
  "language_info": {
   "codemirror_mode": {
    "name": "ipython",
    "version": 3
   },
   "file_extension": ".py",
   "mimetype": "text/x-python",
   "name": "python",
   "nbconvert_exporter": "python",
   "pygments_lexer": "ipython3",
   "version": "3.7.4"
  }
 },
 "nbformat": 4,
 "nbformat_minor": 2
}
