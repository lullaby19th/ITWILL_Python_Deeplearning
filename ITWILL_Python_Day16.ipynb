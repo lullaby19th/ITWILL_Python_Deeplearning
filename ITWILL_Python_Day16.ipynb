{
 "cells": [
  {
   "cell_type": "markdown",
   "metadata": {},
   "source": [
    "## ■ 다음주 월요일에 파이썬 시험 ncs 5문제 유형\n",
    "\n",
    "1. 합성곱 연산\n",
    "2. 이진 탐색\n",
    "3. 버블 정렬\n",
    "\n",
    "4. 탐욕 알고리즘\n",
    "5. 재귀 알고리즘\n",
    "\n",
    "60점 이하 재시험  \n",
    "시간제한 있음 but 프로그램 사용 가능.  \n",
    "\n",
    "### ■ 머신러닝과 딥러닝 때 사용할 이미지를 클래스당 1000장 다운로드 받아 32 x 32 로 일괄 사이즈 조정하고 numpy   \n",
    "### array 변환해서 오라클 db 저장\n",
    "\n",
    "__예)__\n",
    "\n",
    "코스모스 사진과 장미꽃 분류\n",
    "\n",
    "코뿔소와 코끼리 사진 분류  "
   ]
  },
  {
   "cell_type": "markdown",
   "metadata": {},
   "source": [
    "## 4. 탐욕알고리즘\n",
    "\n",
    "탐욕 알고리즘은 매 순간마다 최선의 선택을 하게 하는 것입니다.  \n",
    "선택할 때마다 가장 좋다고 생각되는 것을 선택해 나가며  \n",
    "최종적인 해답을 구하는 알고리즘 입니다.  \n",
    "이 알고리즘을 설계할 때 주의할 점은 전체를 고려하는게 아니라  \n",
    "문제를 부분적으로 나누어, 나누어진 문제에 대한 최적의 해답을 구하게끔 해야한다는 점 입니다.  \n",
    "\n",
    "\n",
    "__예)__ : 14원의 잔돈을 줘야하는데 잔돈의 종류가 10원, 7원, 1원이 있으면 잔돈을 가장 빨리 줄 수 있는 방법?\n",
    "\n",
    "__일반 :__ 7원 2개\n",
    "\n",
    "__탐욕알고리즘 :__ 10원 동전 1개, 7원 동전 0개, 1원 동전 4개 (일이 더 많아짐.)"
   ]
  },
  {
   "cell_type": "markdown",
   "metadata": {},
   "source": [
    "## 문제273.( 전체 문제 )  \n",
    "## 아래와 같이 greey함수를 구현하시오!\n",
    "\n",
    "print(greedy())\n",
    "\n",
    "잔돈 총액 ? 14\n",
    "\n",
    "결과 : 10원 동전 1개, 7원 동전 0개, 1원 동전 4개"
   ]
  },
  {
   "cell_type": "markdown",
   "metadata": {},
   "source": [
    "## 문제274. (작은 문제들) 거스름돈의 종류를 입력하게 하고 거스름돈을 정렬하는 greedy 함수를 생성하시오.\n",
    "\n",
    "print(greedy())\n",
    "\n",
    "거스름돈의 종류를 입력하세요 ~ 7, 1, 10\n",
    "\n",
    "[10,7,1]"
   ]
  },
  {
   "cell_type": "code",
   "execution_count": 1,
   "metadata": {},
   "outputs": [
    {
     "name": "stdout",
     "output_type": "stream",
     "text": [
      "거스름돈의 종류를 입력하세요7,10,1\n",
      "7\n",
      "10\n",
      "1\n",
      "[10, 7, 1]\n"
     ]
    }
   ],
   "source": [
    "def greedy():\n",
    "    \n",
    "    a, b, c = input(\"거스름돈의 종류를 입력하세요\").split(',')\n",
    "    print(a)\n",
    "    print(b)\n",
    "    print(c)\n",
    "    \n",
    "    x = [a,b,c]\n",
    "    \n",
    "    sal = list(map(int,x))\n",
    "    \n",
    "    sal.sort(reverse=True)\n",
    "    return sal\n",
    "\n",
    "print(greedy())"
   ]
  },
  {
   "cell_type": "code",
   "execution_count": 16,
   "metadata": {
    "scrolled": true
   },
   "outputs": [
    {
     "name": "stdout",
     "output_type": "stream",
     "text": [
      "거스름돈?7,1,10\n",
      "[10, 7, 1]\n"
     ]
    }
   ],
   "source": [
    "def greedy():\n",
    "    cash_type = [int(x) for x in input('거스름돈?').split(',')]\n",
    "    cash_type.sort(reverse = True)\n",
    "    return cash_type\n",
    "\n",
    "print(greedy())"
   ]
  },
  {
   "cell_type": "markdown",
   "metadata": {},
   "source": [
    "## 문제275. 14를 10으로 나눈 나머지값과 몫을 구하시오! (divmod)"
   ]
  },
  {
   "cell_type": "code",
   "execution_count": 22,
   "metadata": {},
   "outputs": [
    {
     "name": "stdout",
     "output_type": "stream",
     "text": [
      "[1, 4]\n"
     ]
    }
   ],
   "source": [
    "print(list(divmod(14,10)))"
   ]
  },
  {
   "cell_type": "markdown",
   "metadata": {},
   "source": [
    "## 문제276. 14를 10으로 나눈 나머지값과 몫을 따로 따로 출력하시오."
   ]
  },
  {
   "cell_type": "code",
   "execution_count": 21,
   "metadata": {},
   "outputs": [
    {
     "name": "stdout",
     "output_type": "stream",
     "text": [
      "1\n",
      "4\n"
     ]
    }
   ],
   "source": [
    "x = 14 // 10 #몫\n",
    "\n",
    "y = 14%10 #나머지\n",
    "\n",
    "print (x)\n",
    "print (y)"
   ]
  },
  {
   "cell_type": "markdown",
   "metadata": {},
   "source": [
    "## 문제 277. 위의 두개의 문제의 코드를 잘 조합해서 greedy()함수를 구현하시오~\n",
    "\n",
    "print(greedy())\n",
    "\n",
    "잔돈 액수를 입력하세요~ 29\n",
    "\n",
    "거스름돈의 단위를 입력하세요 10,7,1\n",
    "\n",
    "10원 2개 , 7원 2개, 1원 2개"
   ]
  },
  {
   "cell_type": "code",
   "execution_count": null,
   "metadata": {},
   "outputs": [],
   "source": [
    "# -*- coding: utf-8 -*-\n",
    "\"\"\"\n",
    "Created on Thu Dec 12 14:04:29 2019\n",
    "\n",
    "@author: wdp\n",
    "\"\"\"\n",
    "\n",
    "def greedy() : \n",
    "\n",
    "    target = int(input(\"거슬러 줘야하는 금액을 입력하세요 ~ : \"))\n",
    "\n",
    "    L = input(\"거스름돈의 종류를 입력하세요 ~ : \").split(\",\")\n",
    "\n",
    "\n",
    "\n",
    "    coin = sorted([int(L[i]) for i in range(len(L))], reverse = True)\n",
    "\n",
    "\n",
    "\n",
    "    for i in range(len(coin)) : \n",
    "\n",
    "        case = target//coin[i]\n",
    "\n",
    "        target = target%coin[i]\n",
    "\n",
    "        print(\"{0}원 동전 {1}개\".format(coin[i], case))  # end = ' '\n",
    "\n",
    "        \n",
    "\n",
    "greedy()"
   ]
  },
  {
   "cell_type": "markdown",
   "metadata": {},
   "source": [
    "## 문제278. 위의 코드를 수정해서 결과가 가로로 총 출력되게 하시오!"
   ]
  },
  {
   "cell_type": "code",
   "execution_count": null,
   "metadata": {},
   "outputs": [],
   "source": [
    "# -*- coding: utf-8 -*-\n",
    "\"\"\"\n",
    "Created on Thu Dec 12 14:21:56 2019\n",
    "\n",
    "@author: wdp\n",
    "\"\"\"\n",
    "\n",
    "L = input(\"잔돈의 종류를 입력하세요 ~ : \").split(\",\") # 문자열 요소로 리스트로 저장됨.\n",
    "\n",
    "target = int(input('거스름돈의 금액을 입력하세요.'))\n",
    "\n",
    "a = list(map(int,L))\n",
    "a.sort(reverse = True)\n",
    "print(a)\n",
    "\n",
    "\n",
    "for i in range(len(a)):\n",
    "    coin = target // a[i]\n",
    "    target = target % a[i]\n",
    "    \n",
    "    print(a[i], '동전', coin, '개', end = '')"
   ]
  },
  {
   "cell_type": "markdown",
   "metadata": {},
   "source": [
    "## 5. 재귀 알고리즘\n",
    "\n",
    "### 재귀 함수란?\n",
    "\n",
    "반복문 + 스택구조가 결합된 함수이다.\n",
    "\n",
    "후입선출(나중에 들어간게 먼저 나오는 구조)\n",
    "\n",
    "\n",
    "### - 재귀 함수의 특징? (후입선출)\n",
    "\n",
    "재귀함수는 함수 내에서 다시 자신을 호출한 후 그 함수가 끝날때까지 함수 호출 이후의 명령문을 수행하지 않는다."
   ]
  },
  {
   "cell_type": "markdown",
   "metadata": {},
   "source": [
    "## 함수내에서 다른 함수를 호출하는 예제"
   ]
  },
  {
   "cell_type": "code",
   "execution_count": null,
   "metadata": {},
   "outputs": [],
   "source": [
    "def hap(a,b):\n",
    "    return (a+b)\n",
    "\n",
    "def gob(a,b):\n",
    "    return (a*b)\n",
    "    \n",
    "def hap_gob(a,b):\n",
    "    k = hap(a,b)\n",
    "    m = gob(a,b)\n",
    "    return k+m\n",
    "\n",
    "\n",
    "print(hap_gob(2,3))"
   ]
  },
  {
   "cell_type": "markdown",
   "metadata": {},
   "source": [
    "## 예제1. 구구단 2단을 출력하는 함수를 생성하시오!\n",
    "\n",
    "print(multi_talbe_2(9))\n",
    "\n",
    "2x1 = 2  \n",
    "2x2 = 2  \n",
    ".....  "
   ]
  },
  {
   "cell_type": "code",
   "execution_count": null,
   "metadata": {},
   "outputs": [],
   "source": [
    "# 재귀 함수 안쓰고\n",
    "\n",
    "def multi_talbe_2(n):\n",
    "    for i in range(1,n+1):\n",
    "        print('2 *', i, '=', 2*i)\n",
    "\n",
    "multi_talbe_2(9)"
   ]
  },
  {
   "cell_type": "code",
   "execution_count": null,
   "metadata": {},
   "outputs": [],
   "source": [
    "# 재귀 함수 쓰고\n",
    "\n",
    "def multi_table_2(n):\n",
    "    if n == 0:\n",
    "        print('end')\n",
    "    else:\n",
    "        multi_table_2(n-1)\n",
    "        print('2x', n, '=', 2*n)\n",
    "\n",
    "multi_table_2(9)"
   ]
  },
  {
   "cell_type": "markdown",
   "metadata": {},
   "source": [
    "## ※ 재귀함수의 장점\n",
    "\n",
    "1. 코드가 간결해진다.\n",
    "2. 루프문을 사용하지 않아도 된다.\n",
    "\n",
    "__단점:__ 가독성 & 느려질 수 있음."
   ]
  },
  {
   "cell_type": "markdown",
   "metadata": {},
   "source": [
    "## 문제279. (재귀 사용하지 말고) 함수를 만들어서 1~5 까지의 합을 출력하시오!\n",
    "\n",
    "print(add_fun(5))"
   ]
  },
  {
   "cell_type": "code",
   "execution_count": null,
   "metadata": {},
   "outputs": [],
   "source": [
    "def add_fun(a):\n",
    "    sum1 = 0\n",
    "    for i in range(1,a+1):\n",
    "        sum1 += i\n",
    "    \n",
    "    return sum1\n",
    "\n",
    "print(add_fun(5))"
   ]
  },
  {
   "cell_type": "markdown",
   "metadata": {},
   "source": [
    "## 문제280. 위의 문제를 재귀함수를 써서 만들어보시오!"
   ]
  },
  {
   "cell_type": "code",
   "execution_count": null,
   "metadata": {},
   "outputs": [],
   "source": [
    "def add_fun(n):\n",
    "    if n == 0:\n",
    "        return 0\n",
    "    else:\n",
    "        return n + add_fun(n-1)\n",
    "    \n",
    "print(add_fun(5))"
   ]
  },
  {
   "cell_type": "markdown",
   "metadata": {},
   "source": [
    "## 머신러닝과 딥러닝 떄 사용할 사진을 스크롤링 하세요! (Day15 코드 참고)\n",
    "\n",
    "__예__ :\n",
    "\n",
    "개 vs 고양이\n",
    "\n",
    "코스모스 vs 백합\n",
    "\n",
    "etc...\n",
    "\n",
    "클래스 한개당 1000장 \n",
    "총 2000장\n",
    "\n",
    "1. 웹스크롤링하고 \n",
    "2. 32x32 사이즈 줄이는거까지 하기."
   ]
  },
  {
   "cell_type": "markdown",
   "metadata": {},
   "source": [
    "## ■ 스크롤링한 이미지를 csv로 저장하는 방법\n",
    "\n",
    "1. 폐사진을 100장이 있는 폴더 이름이 무엇인지 알아낸다.\n",
    "\n",
    "   - 현재경로 : D:\\\\image\n",
    "\n",
    "\n",
    "2. 폐 사진을 로드하는 image_load 함수를 가져온다."
   ]
  },
  {
   "cell_type": "code",
   "execution_count": null,
   "metadata": {},
   "outputs": [],
   "source": [
    "import   os\n",
    "import   re\n",
    "import  cv2\n",
    "import  numpy as np\n",
    "test_image = \"d:\\\\image\"\n",
    "\n",
    "def  image_load(path):\n",
    "    file_list = os.listdir(path)\n",
    "    file_name = []\n",
    "    for i  in   file_list:\n",
    "        a = int(  re.sub('[^0-9]','', i ) )  # 숫자 아닌것은 '' 으로 처리\n",
    "        file_name.append(a) \n",
    "        file_name.sort()\n",
    "\n",
    "    file_res =[ ]\n",
    "    for  j  in   file_name:\n",
    "        file_res.append( '%s\\\\%d.png' %(path,j) )\n",
    "\n",
    "    image = [  ]\n",
    "    for  k  in  file_res:\n",
    "        img = cv2.imread(k)  # 이미지를 숫자로 변환하는 역활\n",
    "        image.append(img)\n",
    "\n",
    "    return  np.array(image)  # 숫자리스트를 numpy array 로 감싸서 리턴\n",
    "\n",
    "print  ( image_load(test_image) )"
   ]
  },
  {
   "cell_type": "markdown",
   "metadata": {},
   "source": [
    "### 3. 2차원 리스트를 1차원 리스트로 변경하시오~"
   ]
  },
  {
   "cell_type": "code",
   "execution_count": 7,
   "metadata": {},
   "outputs": [
    {
     "name": "stdout",
     "output_type": "stream",
     "text": [
      "2\n",
      "[[2 3 4]\n",
      " [4 5 6]]\n",
      "[2 3 4 4 5 6]\n"
     ]
    }
   ],
   "source": [
    "import numpy as np\n",
    "\n",
    "a = [[2,3,4],[4,5,6]]\n",
    "\n",
    "a2 = np.array(a)\n",
    "\n",
    "print(a2.ndim) # numpy array의 차원을 확인하는 방법(ndim)\n",
    "print(a2)\n",
    "\n",
    "b = a2.flatten() # 2차원 리스트를 1차원 리스트로 바꾸기 flatten\n",
    "\n",
    "print(b)"
   ]
  },
  {
   "cell_type": "markdown",
   "metadata": {},
   "source": [
    "### 4. 폐사진을 1차원으로 펴서 출력하시오~"
   ]
  },
  {
   "cell_type": "code",
   "execution_count": 8,
   "metadata": {},
   "outputs": [
    {
     "name": "stdout",
     "output_type": "stream",
     "text": [
      "[16 16 16 ... 90 90 90]\n"
     ]
    }
   ],
   "source": [
    "import   os\n",
    "import   re\n",
    "import  cv2\n",
    "import  numpy as np\n",
    "test_image = \"d:\\\\image\"\n",
    "\n",
    "def  image_load(path):\n",
    "    file_list = os.listdir(path)\n",
    "    file_name = []\n",
    "    for i  in   file_list:\n",
    "        a = int(  re.sub('[^0-9]','', i ) )  # 숫자 아닌것은 '' 으로 처리\n",
    "        file_name.append(a) \n",
    "        file_name.sort()\n",
    "\n",
    "    file_res =[ ]\n",
    "    for  j  in   file_name:\n",
    "        file_res.append( '%s\\\\%d.png' %(path,j) )\n",
    "\n",
    "    image = [  ]\n",
    "    for  k  in  file_res:\n",
    "        img = cv2.imread(k)  # 이미지를 숫자로 변환하는 역활\n",
    "        image.append(img)\n",
    "\n",
    "    return  np.array(image)  # 숫자리스트를 numpy array 로 감싸서 리턴\n",
    "\n",
    "# 함수안에어 함수를 호출함!\n",
    "\n",
    "def image_csv(path):\n",
    "    n_2 = image_load(path)\n",
    "    for i in n_2:\n",
    "        i2 = i.flatten()\n",
    "        return i2\n",
    "\n",
    "\n",
    "print(image_csv(test_image))"
   ]
  },
  {
   "cell_type": "markdown",
   "metadata": {},
   "source": [
    "### 5. 위의 리스트를 csv파일로 저장하시오!"
   ]
  },
  {
   "cell_type": "code",
   "execution_count": null,
   "metadata": {},
   "outputs": [],
   "source": [
    "# 최종 final 버전\n",
    "# 적용하기 전에 file_res.append 부분에서 이미지 양식 잘 확인하기 (.jpg .png등등)\n",
    "\n",
    "import   os\n",
    "import   re\n",
    "import  cv2\n",
    "import  numpy as np\n",
    "test_image = \"d:\\\\image\"\n",
    "\n",
    "def  image_load(path):\n",
    "    file_list = os.listdir(path)\n",
    "    file_name = []\n",
    "    for i  in   file_list:\n",
    "        a = int(  re.sub('[^0-9]','', i ) )  # 숫자 아닌것은 '' 으로 처리\n",
    "        file_name.append(a) \n",
    "        file_name.sort()\n",
    "\n",
    "    file_res =[ ]\n",
    "    for  j  in   file_name:\n",
    "        file_res.append( '%s\\\\%d.png' %(path,j) )\n",
    "\n",
    "    image = [  ]\n",
    "    for  k  in  file_res:\n",
    "        img = cv2.imread(k)  # 이미지를 숫자로 변환하는 역활\n",
    "        image.append(img)\n",
    "\n",
    "    return  np.array(image)  # 숫자리스트를 numpy array 로 감싸서 리턴\n",
    "\n",
    "# 함수안에어 함수를 호출함!\n",
    "\n",
    "def image_csv(path):\n",
    "    n_2 = image_load(path)\n",
    "    for i in n_2:\n",
    "        i2 = i.flatten()\n",
    "        np.savetxt('d:\\\\data\\\\array.csv', [i2], delimiter = ',', fmt = '%d') \n",
    "        \n",
    "# fmt : 데이터 형식은 %d 정수형\n",
    "# 'array.csv' 파일이름 (위치 안써주면 워킹디렉토리에 떨어짐.)\n",
    "# delimiter : 데이터들을 ','(콤마)로 구분함.\n",
    "        \n",
    "print(image_csv(test_image))"
   ]
  },
  {
   "cell_type": "markdown",
   "metadata": {},
   "source": [
    "## 문제 281.(점심시간문제) 내가 스크롤링한 이미지를 csv로 저장하시오."
   ]
  },
  {
   "cell_type": "code",
   "execution_count": null,
   "metadata": {},
   "outputs": [],
   "source": [
    "# 최종 final 버전\n",
    "# 적용하기 전에 file_res.append 부분에서 이미지 양식 잘 확인하기 (.jpg .png등등)\n",
    "import   os\n",
    "import   re\n",
    "import  cv2\n",
    "import  numpy as np\n",
    "test_image = \"d:\\\\resizedogs\"\n",
    "\n",
    "def  image_load(path):\n",
    "    file_list = os.listdir(path)\n",
    "    file_name = []\n",
    "    for i  in   file_list:\n",
    "        a = int(  re.sub('[^0-9]','', i ) )  # 숫자 아닌것은 '' 으로 처리\n",
    "        file_name.append(a) \n",
    "        file_name.sort()\n",
    "\n",
    "    file_res =[ ]\n",
    "    for  j  in   file_name:\n",
    "        file_res.append( '%s\\\\%d.jpg' %(path,j) )\n",
    "\n",
    "    image = [  ]\n",
    "    for  k  in  file_res:\n",
    "        img = cv2.imread(k)  # 이미지를 숫자로 변환하는 역활\n",
    "        image.append(img)\n",
    "\n",
    "    return  np.array(image)  # 숫자리스트를 numpy array 로 감싸서 리턴\n",
    "\n",
    "# 함수안에어 함수를 호출함!\n",
    "\n",
    "def image_csv(path):\n",
    "    n_2 = image_load(path)\n",
    "    for i in n_2:\n",
    "        i2 = i.flatten()\n",
    "        np.savetxt('d:\\\\array2.csv', [i2], delimiter = ',', fmt = '%d') \n",
    "        \n",
    "# fmt : 데이터 형식은 %d 정수형\n",
    "# 'array.csv' 파일이름 (위치 안써주면 워킹디렉토리에 떨어짐.)\n",
    "# delimiter : 데이터들을 ','(콤마)로 구분함.\n",
    "        \n",
    "print(image_csv(test_image))"
   ]
  }
 ],
 "metadata": {
  "kernelspec": {
   "display_name": "Python 3",
   "language": "python",
   "name": "python3"
  },
  "language_info": {
   "codemirror_mode": {
    "name": "ipython",
    "version": 3
   },
   "file_extension": ".py",
   "mimetype": "text/x-python",
   "name": "python",
   "nbconvert_exporter": "python",
   "pygments_lexer": "ipython3",
   "version": "3.7.4"
  }
 },
 "nbformat": 4,
 "nbformat_minor": 2
}
